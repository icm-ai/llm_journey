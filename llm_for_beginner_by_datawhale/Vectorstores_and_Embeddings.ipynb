{
 "cells": [
  {
   "cell_type": "code",
   "execution_count": 1,
   "metadata": {},
   "outputs": [],
   "source": [
    "from IPython.display import display, Markdown"
   ]
  },
  {
   "cell_type": "code",
   "execution_count": 2,
   "metadata": {},
   "outputs": [],
   "source": [
    "from langchain.document_loaders import PyPDFLoader\n",
    "\n",
    "base_path = \"../docs/matplotlib/\"\n",
    "# 加载 PDF\n",
    "loaders_chinese = [\n",
    "    # 故意添加重复文档，使数据混乱\n",
    "    PyPDFLoader(base_path + \"第一回：Matplotlib初相识.pdf\"),\n",
    "    PyPDFLoader(base_path + \"第一回：Matplotlib初相识.pdf\"),\n",
    "    PyPDFLoader(base_path + \"第二回：艺术画笔见乾坤.pdf\"),\n",
    "    PyPDFLoader(base_path + \"第三回：布局格式定方圆.pdf\"),\n",
    "]\n",
    "docs = []\n",
    "for loader in loaders_chinese:\n",
    "    docs.extend(loader.load())"
   ]
  },
  {
   "cell_type": "code",
   "execution_count": 4,
   "metadata": {},
   "outputs": [
    {
     "name": "stdout",
     "output_type": "stream",
     "text": [
      "27\n"
     ]
    }
   ],
   "source": [
    "# 分割文本\n",
    "from langchain.text_splitter import RecursiveCharacterTextSplitter\n",
    "\n",
    "text_splitter = RecursiveCharacterTextSplitter(\n",
    "    chunk_size=1500,  # 每个文本块的大小。这意味着每次切分文本时，会尽量使每个块包含 1500 个字符。\n",
    "    chunk_overlap=150,  # 每个文本块之间的重叠部分。\n",
    ")\n",
    "\n",
    "splits = text_splitter.split_documents(docs)\n",
    "\n",
    "print(len(splits))"
   ]
  },
  {
   "cell_type": "code",
   "execution_count": 7,
   "metadata": {},
   "outputs": [],
   "source": [
    "from langchain_ollama import ChatOllama\n",
    "from langchain_ollama import OllamaEmbeddings  # ollama嵌入\n",
    "\n",
    "embedding = OllamaEmbeddings(model=\"qwen2.5\")"
   ]
  },
  {
   "cell_type": "code",
   "execution_count": 8,
   "metadata": {},
   "outputs": [],
   "source": [
    "sentence1_chinese = \"我喜欢狗\"\n",
    "sentence2_chinese = \"我喜欢犬科动物\"\n",
    "sentence3_chinese = \"外面的天气很糟糕\"\n",
    "\n",
    "embedding1_chinese = embedding.embed_query(sentence1_chinese)\n",
    "embedding2_chinese = embedding.embed_query(sentence2_chinese)\n",
    "embedding3_chinese = embedding.embed_query(sentence3_chinese)"
   ]
  },
  {
   "cell_type": "code",
   "execution_count": 15,
   "metadata": {},
   "outputs": [
    {
     "name": "stdout",
     "output_type": "stream",
     "text": [
      "0.8698884672881708 0.7060124247508759 0.6804940812830784\n"
     ]
    }
   ],
   "source": [
    "import numpy as np\n",
    "\n",
    "print(np.dot(embedding1_chinese, embedding2_chinese),\n",
    "\t  np.dot(embedding1_chinese, embedding3_chinese),\n",
    "\t  np.dot(embedding2_chinese, embedding3_chinese))"
   ]
  },
  {
   "cell_type": "code",
   "execution_count": 20,
   "metadata": {},
   "outputs": [],
   "source": [
    "from langchain.vectorstores import Chroma\n",
    "\n",
    "persist_directory_chinese = \"../docs/chroma/matplotlib/\""
   ]
  },
  {
   "cell_type": "code",
   "execution_count": 21,
   "metadata": {},
   "outputs": [],
   "source": [
    "vectordb_chinese = Chroma.from_documents(\n",
    "    documents=splits,\n",
    "    embedding=embedding,\n",
    "    persist_directory=persist_directory_chinese,  # 允许我们将persist_directory目录保存到磁盘上\n",
    ")"
   ]
  },
  {
   "cell_type": "code",
   "execution_count": 22,
   "metadata": {},
   "outputs": [
    {
     "name": "stdout",
     "output_type": "stream",
     "text": [
      "27\n"
     ]
    }
   ],
   "source": [
    "print(vectordb_chinese._collection.count())"
   ]
  },
  {
   "cell_type": "code",
   "execution_count": 30,
   "metadata": {},
   "outputs": [
    {
     "data": {
      "text/plain": [
       "3"
      ]
     },
     "execution_count": 30,
     "metadata": {},
     "output_type": "execute_result"
    }
   ],
   "source": [
    "question_chinese = \"Matplotlib是什么？\"\n",
    "docs_chinese = vectordb_chinese.similarity_search(question_chinese, k=3)\n",
    "len(docs_chinese)"
   ]
  },
  {
   "cell_type": "code",
   "execution_count": 31,
   "metadata": {},
   "outputs": [
    {
     "name": "stdout",
     "output_type": "stream",
     "text": [
      "第⼆回：艺术画笔⻅乾坤\n",
      "import numpy as np\n",
      "import pandas as pd\n",
      "import re\n",
      "import matplotlib\n",
      "import matplotlib.pyplot as plt\n",
      "from matplotlib.lines import Line2D   \n",
      "from matplotlib.patches import Circle, Wedge\n",
      "from matplotlib.collections import PatchCollection\n",
      "⼀、概述\n",
      "1. matplotlib 的三层 api\n",
      "matplotlib 的原理或者说基础逻辑是，⽤ Artist 对象在画布 (canvas) 上绘制 (Render) 图形。\n",
      "就和⼈作画的步骤类似：\n",
      "\u0000. 准备⼀块画布或画纸\n",
      "\u0000. 准备好颜料、画笔等制图⼯具\n",
      "\u0000. 作画\n",
      "所以 matplotlib 有三个层次的 API ：\n",
      "matplotlib.backend_bases.FigureCanvas 代表了绘图区，所有的图像都是在绘图区完成的\n",
      "matplotlib.backend_bases.Renderer 代表了渲染器，可以近似理解为画笔，控制如何在  FigureCanvas 上画图。\n",
      "matplotlib.artist.Artist 代表了具体的图表组件，即调⽤了 Renderer 的接⼝在 Canvas 上作图。\n",
      "前两者处理程序和计算机的底层交互的事项，第三项 Artist 就是具体的调⽤接⼝来做出我们想要的图，⽐如图形、⽂本、线条的设定。\n",
      "所以通常来说，我们 95% 的时间，都是⽤来和 matplotlib.artist.Artist 类打交道的。\n",
      "2. Artist 的分类\n",
      "Artist 有两种类型：primitives 和containers。\n",
      "primitive是基本要素，它包含⼀些我们要在绘图区作图⽤到的标准图形对象，如曲线 Line2D ，⽂字 text ，矩形 Rectangle ，图像\n",
      "image等。\n",
      "container是容器，即⽤来装基本要素的地⽅，包括图形 figure 、坐标系 Axes 和坐标轴 Axis。他们之间的关系如下图所示：\n",
      "分类\n",
      "可视化中常⻅的 artist 类可以参考下图这张表格，解释下每⼀列的含义。\n",
      "第⼀列表示 matplotlib 中⼦图上的辅助⽅法，可以理解为可视化中不同种类的图表类型，如柱状图，折线图，直⽅图等，这些图表都可\n",
      "以⽤这些辅助⽅法直接画出来，属于更⾼层级的抽象。\n",
      "第⼆列表示不同图表背后的 artist 类，⽐如折线图⽅法plot在底层⽤到的就是Line2D这⼀ artist 类。\n",
      "第三列是第⼆列的列表容器，例如所有在⼦图中创建的Line2D对象都会被⾃动收集到ax.lines返回的列表中。\n",
      "下⼀节的具体案例更清楚地阐释了这三者的关系，其实在很多时候，我们只⽤记住第⼀列的辅助⽅法进⾏绘图即可，⽽⽆需关注具体底\n",
      "层使⽤了哪些类，但是了解底层类有助于我们绘制⼀些复杂的图表，因此也很有必要了解。\n"
     ]
    }
   ],
   "source": [
    "print(docs_chinese[0].page_content)"
   ]
  },
  {
   "cell_type": "code",
   "execution_count": 32,
   "metadata": {},
   "outputs": [],
   "source": [
    "vectordb_chinese.persist()"
   ]
  },
  {
   "cell_type": "code",
   "execution_count": 33,
   "metadata": {},
   "outputs": [],
   "source": [
    "question_chinese = \"Matplotlib是什么？\"\n",
    "\n",
    "docs_chinese = vectordb_chinese.similarity_search(question_chinese, k=5)"
   ]
  },
  {
   "cell_type": "code",
   "execution_count": 34,
   "metadata": {},
   "outputs": [
    {
     "name": "stdout",
     "output_type": "stream",
     "text": [
      "docs[0]\n",
      "page_content='第⼆回：艺术画笔⻅乾坤\n",
      "import numpy as np\n",
      "import pandas as pd\n",
      "import re\n",
      "import matplotlib\n",
      "import matplotlib.pyplot as plt\n",
      "from matplotlib.lines import Line2D   \n",
      "from matplotlib.patches import Circle, Wedge\n",
      "from matplotlib.collections import PatchCollection\n",
      "⼀、概述\n",
      "1. matplotlib 的三层 api\n",
      "matplotlib 的原理或者说基础逻辑是，⽤ Artist 对象在画布 (canvas) 上绘制 (Render) 图形。\n",
      "就和⼈作画的步骤类似：\n",
      "\u0000. 准备⼀块画布或画纸\n",
      "\u0000. 准备好颜料、画笔等制图⼯具\n",
      "\u0000. 作画\n",
      "所以 matplotlib 有三个层次的 API ：\n",
      "matplotlib.backend_bases.FigureCanvas 代表了绘图区，所有的图像都是在绘图区完成的\n",
      "matplotlib.backend_bases.Renderer 代表了渲染器，可以近似理解为画笔，控制如何在  FigureCanvas 上画图。\n",
      "matplotlib.artist.Artist 代表了具体的图表组件，即调⽤了 Renderer 的接⼝在 Canvas 上作图。\n",
      "前两者处理程序和计算机的底层交互的事项，第三项 Artist 就是具体的调⽤接⼝来做出我们想要的图，⽐如图形、⽂本、线条的设定。\n",
      "所以通常来说，我们 95% 的时间，都是⽤来和 matplotlib.artist.Artist 类打交道的。\n",
      "2. Artist 的分类\n",
      "Artist 有两种类型：primitives 和containers。\n",
      "primitive是基本要素，它包含⼀些我们要在绘图区作图⽤到的标准图形对象，如曲线 Line2D ，⽂字 text ，矩形 Rectangle ，图像\n",
      "image等。\n",
      "container是容器，即⽤来装基本要素的地⽅，包括图形 figure 、坐标系 Axes 和坐标轴 Axis。他们之间的关系如下图所示：\n",
      "分类\n",
      "可视化中常⻅的 artist 类可以参考下图这张表格，解释下每⼀列的含义。\n",
      "第⼀列表示 matplotlib 中⼦图上的辅助⽅法，可以理解为可视化中不同种类的图表类型，如柱状图，折线图，直⽅图等，这些图表都可\n",
      "以⽤这些辅助⽅法直接画出来，属于更⾼层级的抽象。\n",
      "第⼆列表示不同图表背后的 artist 类，⽐如折线图⽅法plot在底层⽤到的就是Line2D这⼀ artist 类。\n",
      "第三列是第⼆列的列表容器，例如所有在⼦图中创建的Line2D对象都会被⾃动收集到ax.lines返回的列表中。\n",
      "下⼀节的具体案例更清楚地阐释了这三者的关系，其实在很多时候，我们只⽤记住第⼀列的辅助⽅法进⾏绘图即可，⽽⽆需关注具体底\n",
      "层使⽤了哪些类，但是了解底层类有助于我们绘制⼀些复杂的图表，因此也很有必要了解。' metadata={'creationdate': '2023-07-11T13:58:07+00:00', 'creator': 'Mozilla/5.0 (Macintosh; Intel Mac OS X 10_15_7) AppleWebKit/537.36 (KHTML, like Gecko) Chrome/114.0.0.0 Safari/537.36', 'moddate': '2023-07-12T10:54:41+08:00', 'page': 0, 'page_label': '1', 'producer': 'Skia/PDF m114', 'source': '../docs/matplotlib/第二回：艺术画笔见乾坤.pdf', 'total_pages': 13}\n",
      "docs[1]\n",
      "page_content='4. Tick 容器\n",
      "matplotlib.axis.Tick是从Figure到Axes到Axis到Tick中最末端的容器对象。\n",
      "Tick包含了tick、grid line实例以及对应的label。\n",
      "所有的这些都可以通过Tick的属性获取，常⻅的tick属性有\n",
      "Tick.tick1line： Line2D 实例\n",
      "Tick.tick2line： Line2D 实例\n",
      "Tick.gridline： Line2D 实例\n",
      "Tick.label1： Text 实例\n",
      "Tick.label2： Text 实例' metadata={'creationdate': '2023-07-11T13:58:07+00:00', 'creator': 'Mozilla/5.0 (Macintosh; Intel Mac OS X 10_15_7) AppleWebKit/537.36 (KHTML, like Gecko) Chrome/114.0.0.0 Safari/537.36', 'moddate': '2023-07-12T10:54:41+08:00', 'page': 11, 'page_label': '12', 'producer': 'Skia/PDF m114', 'source': '../docs/matplotlib/第二回：艺术画笔见乾坤.pdf', 'total_pages': 13}\n"
     ]
    }
   ],
   "source": [
    "print(\"docs[0]\")\n",
    "print(docs_chinese[0])\n",
    "\n",
    "print(\"docs[1]\")\n",
    "print(docs_chinese[1])"
   ]
  },
  {
   "cell_type": "code",
   "execution_count": 35,
   "metadata": {},
   "outputs": [
    {
     "name": "stdout",
     "output_type": "stream",
     "text": [
      "{'creationdate': '2023-07-11T13:58:07+00:00', 'creator': 'Mozilla/5.0 (Macintosh; Intel Mac OS X 10_15_7) AppleWebKit/537.36 (KHTML, like Gecko) Chrome/114.0.0.0 Safari/537.36', 'moddate': '2023-07-12T10:54:41+08:00', 'page': 0, 'page_label': '1', 'producer': 'Skia/PDF m114', 'source': '../docs/matplotlib/第二回：艺术画笔见乾坤.pdf', 'total_pages': 13}\n",
      "{'creationdate': '2023-07-11T13:58:07+00:00', 'creator': 'Mozilla/5.0 (Macintosh; Intel Mac OS X 10_15_7) AppleWebKit/537.36 (KHTML, like Gecko) Chrome/114.0.0.0 Safari/537.36', 'moddate': '2023-07-12T10:54:41+08:00', 'page': 11, 'page_label': '12', 'producer': 'Skia/PDF m114', 'source': '../docs/matplotlib/第二回：艺术画笔见乾坤.pdf', 'total_pages': 13}\n",
      "{'creationdate': '2023-07-11T13:55:29+00:00', 'creator': 'Mozilla/5.0 (Macintosh; Intel Mac OS X 10_15_7) AppleWebKit/537.36 (KHTML, like Gecko) Chrome/114.0.0.0 Safari/537.36', 'moddate': '2023-07-12T10:54:28+08:00', 'page': 2, 'page_label': '3', 'producer': 'Skia/PDF m114', 'source': '../docs/matplotlib/第一回：Matplotlib初相识.pdf', 'total_pages': 3}\n",
      "{'creationdate': '2023-07-11T13:55:29+00:00', 'creator': 'Mozilla/5.0 (Macintosh; Intel Mac OS X 10_15_7) AppleWebKit/537.36 (KHTML, like Gecko) Chrome/114.0.0.0 Safari/537.36', 'moddate': '2023-07-12T10:54:28+08:00', 'page': 2, 'page_label': '3', 'producer': 'Skia/PDF m114', 'source': '../docs/matplotlib/第一回：Matplotlib初相识.pdf', 'total_pages': 3}\n",
      "{'creationdate': '2023-07-11T13:58:18+00:00', 'creator': 'Mozilla/5.0 (Macintosh; Intel Mac OS X 10_15_7) AppleWebKit/537.36 (KHTML, like Gecko) Chrome/114.0.0.0 Safari/537.36', 'moddate': '2023-07-12T10:54:35+08:00', 'page': 3, 'page_label': '4', 'producer': 'Skia/PDF m114', 'source': '../docs/matplotlib/第三回：布局格式定方圆.pdf', 'total_pages': 5}\n"
     ]
    }
   ],
   "source": [
    "question_chinese = \"他们在第二讲中对Figure说了些什么？\"\n",
    "docs_chinese = vectordb_chinese.similarity_search(question_chinese, k=5)\n",
    "\n",
    "for doc_chinese in docs_chinese:\n",
    "    print(doc_chinese.metadata)"
   ]
  },
  {
   "cell_type": "code",
   "execution_count": 37,
   "metadata": {},
   "outputs": [
    {
     "name": "stdout",
     "output_type": "stream",
     "text": [
      "Sentence 1 VS setence 2\n",
      "0.9121359504838349\n",
      "Sentence 1 VS setence 3\n",
      "0.8246618205998486\n",
      "Sentence 2 VS sentence 3\n",
      "0.8084822450411762\n"
     ]
    }
   ],
   "source": [
    "from langchain.embeddings.openai import OpenAIEmbeddings\n",
    "import numpy as np\n",
    "\n",
    "\n",
    "sentence1 = \"i like dogs\"\n",
    "sentence2 = \"i like canines\"\n",
    "sentence3 = \"the weather is ugly outside\"\n",
    "\n",
    "embedding1 = embedding.embed_query(sentence1)\n",
    "embedding2 = embedding.embed_query(sentence2)\n",
    "embedding3 = embedding.embed_query(sentence3)\n",
    "\n",
    "print(\"Sentence 1 VS setence 2\")\n",
    "print(np.dot(embedding1, embedding2))\n",
    "print(\"Sentence 1 VS setence 3\")\n",
    "print(np.dot(embedding1, embedding3))\n",
    "print(\"Sentence 2 VS sentence 3\")\n",
    "print(np.dot(embedding2, embedding3))"
   ]
  },
  {
   "cell_type": "code",
   "execution_count": null,
   "metadata": {},
   "outputs": [],
   "source": []
  },
  {
   "cell_type": "code",
   "execution_count": 38,
   "metadata": {},
   "outputs": [],
   "source": [
    "from langchain.document_loaders import PyPDFLoader\n",
    "\n",
    "base_path = \"../docs/cs229_lectures/\"\n",
    "# 加载 PDF\n",
    "loaders = [\n",
    "    # 故意添加重复文档，使数据混乱\n",
    "    PyPDFLoader(\"../docs/cs229_lectures/MachineLearning-Lecture01.pdf\"),\n",
    "    PyPDFLoader(\"../docs/cs229_lectures/MachineLearning-Lecture01.pdf\"),\n",
    "    PyPDFLoader(\"../docs/cs229_lectures/MachineLearning-Lecture02.pdf\"),\n",
    "    PyPDFLoader(\"../docs/cs229_lectures/MachineLearning-Lecture03.pdf\"),\n",
    "]\n",
    "docs = []\n",
    "for loader in loaders:\n",
    "    docs.extend(loader.load())"
   ]
  },
  {
   "cell_type": "code",
   "execution_count": 39,
   "metadata": {},
   "outputs": [
    {
     "name": "stdout",
     "output_type": "stream",
     "text": [
      "208\n"
     ]
    }
   ],
   "source": [
    "# 分割文本\n",
    "from langchain.text_splitter import RecursiveCharacterTextSplitter\n",
    "\n",
    "text_splitter = RecursiveCharacterTextSplitter(\n",
    "    chunk_size=1500,  # 每个文本块的大小。这意味着每次切分文本时，会尽量使每个块包含 1500 个字符。\n",
    "    chunk_overlap=150,  # 每个文本块之间的重叠部分。\n",
    ")\n",
    "\n",
    "splits = text_splitter.split_documents(docs)\n",
    "\n",
    "print(len(splits))"
   ]
  },
  {
   "cell_type": "code",
   "execution_count": 40,
   "metadata": {},
   "outputs": [
    {
     "name": "stdout",
     "output_type": "stream",
     "text": [
      "208\n"
     ]
    }
   ],
   "source": [
    "from langchain.vectorstores import Chroma\n",
    "\n",
    "persist_directory = \"../docs/chroma/cs229_lectures/\"\n",
    "\n",
    "vectordb = Chroma.from_documents(\n",
    "    documents=splits,\n",
    "    embedding=embedding,\n",
    "    persist_directory=persist_directory,  # 允许我们将persist_directory目录保存到磁盘上\n",
    ")\n",
    "\n",
    "print(vectordb._collection.count())"
   ]
  },
  {
   "cell_type": "code",
   "execution_count": 41,
   "metadata": {},
   "outputs": [
    {
     "name": "stdout",
     "output_type": "stream",
     "text": [
      "Length of docs:  3\n",
      "Page content:\n",
      "Instructor (Andrew Ng):Yeah, yeah. I mean, you’re asking about overfitting, whether \n",
      "this is a good model. I think let’s – the thing’s you’re mentioning are maybe deeper \n",
      "questions about learning algorithms that we’ll just come back to later, so don’t really \n",
      "want to get into that right now. Any more questions? Okay.  \n",
      "So this endows linear regression with a probabilistic interpretation. I’m actually going to \n",
      "use this probabil – use this, sort of, probabilistic interpretation in order to derive our next \n",
      "learning algorithm, which will be our first classification algorithm. Okay? So you’ll recall \n",
      "that I said that regression problems are where the variable Y that you’re trying to predict \n",
      "is continuous values. Now I’m actually gonna talk about our first classification problem, \n",
      "where the value Y you’re trying to predict will be discreet value. You can take on only a \n",
      "small number of discrete values and in this case I’ll talk about binding classification \n",
      "where Y takes on only two values, right? So you come up with classification problems if \n",
      "you’re trying to do, say, a medical diagnosis and try to decide based on some features that \n",
      "the patient has a disease or does not have a disease. Or if in the housing example, maybe \n",
      "you’re trying to decide will this house sell in the next six months or not and the answer is \n",
      "either yes or no. It’ll either be sold in the next six months or it won’t be. Other standing\n"
     ]
    }
   ],
   "source": [
    "question = \"is there an email i can ask for help\"  # \"有我可以寻求帮助的电子邮件吗\"\n",
    "\n",
    "docs = vectordb.similarity_search(question, k=3)\n",
    "\n",
    "print(\"Length of docs: \", len(docs))\n",
    "print(\"Page content:\")\n",
    "print(docs[0].page_content)"
   ]
  },
  {
   "cell_type": "code",
   "execution_count": 42,
   "metadata": {},
   "outputs": [],
   "source": [
    "vectordb.persist()"
   ]
  },
  {
   "cell_type": "code",
   "execution_count": null,
   "metadata": {},
   "outputs": [],
   "source": []
  }
 ],
 "metadata": {
  "kernelspec": {
   "display_name": "llm_env",
   "language": "python",
   "name": "python3"
  },
  "language_info": {
   "codemirror_mode": {
    "name": "ipython",
    "version": 3
   },
   "file_extension": ".py",
   "mimetype": "text/x-python",
   "name": "python",
   "nbconvert_exporter": "python",
   "pygments_lexer": "ipython3",
   "version": "3.10.16"
  }
 },
 "nbformat": 4,
 "nbformat_minor": 2
}
