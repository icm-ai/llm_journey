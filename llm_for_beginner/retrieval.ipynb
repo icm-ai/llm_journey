{
 "cells": [
  {
   "cell_type": "code",
   "execution_count": 1,
   "metadata": {},
   "outputs": [],
   "source": [
    "from IPython.display import display, Markdown"
   ]
  },
  {
   "cell_type": "code",
   "execution_count": 20,
   "metadata": {},
   "outputs": [],
   "source": [
    "from langchain_ollama import ChatOllama\n",
    "from langchain_ollama import OllamaEmbeddings  # ollama嵌入"
   ]
  },
  {
   "cell_type": "code",
   "execution_count": 1,
   "metadata": {},
   "outputs": [
    {
     "name": "stderr",
     "output_type": "stream",
     "text": [
      "/var/folders/hm/wyn_k9d108zfv2y674p1hv_r0000gn/T/ipykernel_57490/3332570400.py:8: LangChainDeprecationWarning: The class `Chroma` was deprecated in LangChain 0.2.9 and will be removed in 1.0. An updated version of the class exists in the :class:`~langchain-chroma package and should be used instead. To use it run `pip install -U :class:`~langchain-chroma` and import as `from :class:`~langchain_chroma import Chroma``.\n",
      "  vectordb_chinese = Chroma(\n"
     ]
    },
    {
     "name": "stdout",
     "output_type": "stream",
     "text": [
      "27\n"
     ]
    }
   ],
   "source": [
    "from langchain.vectorstores import Chroma\n",
    "from langchain_ollama import OllamaEmbeddings  # ollama嵌入\n",
    "\n",
    "persist_directory_chinese = \"../docs/chroma/matplotlib/\"\n",
    "\n",
    "embedding = OllamaEmbeddings(model=\"qwen2.5\")\n",
    "\n",
    "vectordb_chinese = Chroma(\n",
    "    persist_directory=persist_directory_chinese, embedding_function=embedding\n",
    ")\n",
    "\n",
    "print(vectordb_chinese._collection.count())"
   ]
  },
  {
   "cell_type": "code",
   "execution_count": 2,
   "metadata": {},
   "outputs": [],
   "source": [
    "texts_chinese = [\n",
    "    \"\"\"毒鹅膏菌（Amanita phalloides）具有大型且引人注目的地上（epigeous）子实体（basidiocarp）\"\"\",\n",
    "    \"\"\"一种具有大型子实体的蘑菇是毒鹅膏菌（Amanita phalloides）。某些品种全白。\"\"\",\n",
    "    \"\"\"A. phalloides，又名死亡帽，是已知所有蘑菇中最有毒的一种。\"\"\",\n",
    "]"
   ]
  },
  {
   "cell_type": "code",
   "execution_count": 3,
   "metadata": {},
   "outputs": [],
   "source": [
    "smalldb_chinese = Chroma.from_texts(texts_chinese, embedding=embedding)"
   ]
  },
  {
   "cell_type": "code",
   "execution_count": 6,
   "metadata": {},
   "outputs": [
    {
     "data": {
      "text/plain": [
       "[Document(metadata={}, page_content='毒鹅膏菌（Amanita phalloides）具有大型且引人注目的地上（epigeous）子实体（basidiocarp）'),\n",
       " Document(metadata={}, page_content='一种具有大型子实体的蘑菇是毒鹅膏菌（Amanita phalloides）。某些品种全白。')]"
      ]
     },
     "execution_count": 6,
     "metadata": {},
     "output_type": "execute_result"
    }
   ],
   "source": [
    "question_chinese = \"告诉我关于具有大型子实体的全白色蘑菇的信息\"\n",
    "smalldb_chinese.similarity_search(question_chinese, k=2)"
   ]
  },
  {
   "cell_type": "code",
   "execution_count": 7,
   "metadata": {},
   "outputs": [
    {
     "data": {
      "text/plain": [
       "[Document(metadata={}, page_content='毒鹅膏菌（Amanita phalloides）具有大型且引人注目的地上（epigeous）子实体（basidiocarp）'),\n",
       " Document(metadata={}, page_content='A. phalloides，又名死亡帽，是已知所有蘑菇中最有毒的一种。')]"
      ]
     },
     "execution_count": 7,
     "metadata": {},
     "output_type": "execute_result"
    }
   ],
   "source": [
    "smalldb_chinese.max_marginal_relevance_search(question_chinese, k=2, fetch_k=3)"
   ]
  },
  {
   "cell_type": "code",
   "execution_count": 8,
   "metadata": {},
   "outputs": [
    {
     "name": "stdout",
     "output_type": "stream",
     "text": [
      "docs[0]: \n",
      "第⼆回：艺术画笔⻅乾坤\n",
      "import numpy as np\n",
      "import pandas as pd\n",
      "import re\n",
      "import matplotlib\n",
      "import matplotlib.pyp\n",
      "\n",
      "docs[1]: \n",
      "4. Tick 容器\n",
      "matplotlib.axis.Tick是从Figure到Axes到Axis到Tick中最末端的容器对象。\n",
      "Tick包含了tick、grid line实例以及对应的label。\n",
      "\n"
     ]
    }
   ],
   "source": [
    "question_chinese = \"Matplotlib是什么？\"\n",
    "docs_ss_chinese = vectordb_chinese.similarity_search(question_chinese, k=3)\n",
    "\n",
    "print(\"docs[0]: \")\n",
    "print(docs_ss_chinese[0].page_content[:100])\n",
    "print()\n",
    "print(\"docs[1]: \")\n",
    "print(docs_ss_chinese[1].page_content[:100])"
   ]
  },
  {
   "cell_type": "code",
   "execution_count": 11,
   "metadata": {},
   "outputs": [
    {
     "name": "stdout",
     "output_type": "stream",
     "text": [
      "第⼆回：艺术画笔⻅乾坤\n",
      "import numpy as np\n",
      "import pandas as pd\n",
      "import re\n",
      "import matplotlib\n",
      "import matplotlib.pyp\n",
      "# 2. Line2D 对象绘制\n",
      "x = range(0,5)\n",
      "y1 = [2,5,7,8,10]\n",
      "y2= [3,6,8,9,11]\n",
      "fig,ax= plt.subplots()\n",
      "lines = [L\n"
     ]
    }
   ],
   "source": [
    "docs_mmr_chinese = vectordb_chinese.max_marginal_relevance_search(question_chinese, k=3)\n",
    "print(docs_mmr_chinese[0].page_content[:100])\n",
    "print(docs_mmr_chinese[1].page_content[:100])"
   ]
  },
  {
   "cell_type": "code",
   "execution_count": 16,
   "metadata": {},
   "outputs": [
    {
     "name": "stdout",
     "output_type": "stream",
     "text": [
      "{'creationdate': '2023-07-11T13:58:07+00:00', 'creator': 'Mozilla/5.0 (Macintosh; Intel Mac OS X 10_15_7) AppleWebKit/537.36 (KHTML, like Gecko) Chrome/114.0.0.0 Safari/537.36', 'moddate': '2023-07-12T10:54:41+08:00', 'page': 0, 'page_label': '1', 'producer': 'Skia/PDF m114', 'source': '../docs/matplotlib/第二回：艺术画笔见乾坤.pdf', 'total_pages': 13}\n",
      "{'creationdate': '2023-07-11T13:58:07+00:00', 'creator': 'Mozilla/5.0 (Macintosh; Intel Mac OS X 10_15_7) AppleWebKit/537.36 (KHTML, like Gecko) Chrome/114.0.0.0 Safari/537.36', 'moddate': '2023-07-12T10:54:41+08:00', 'page': 11, 'page_label': '12', 'producer': 'Skia/PDF m114', 'source': '../docs/matplotlib/第二回：艺术画笔见乾坤.pdf', 'total_pages': 13}\n",
      "{'creationdate': '2023-07-11T13:58:07+00:00', 'creator': 'Mozilla/5.0 (Macintosh; Intel Mac OS X 10_15_7) AppleWebKit/537.36 (KHTML, like Gecko) Chrome/114.0.0.0 Safari/537.36', 'moddate': '2023-07-12T10:54:41+08:00', 'page': 3, 'page_label': '4', 'producer': 'Skia/PDF m114', 'source': '../docs/matplotlib/第二回：艺术画笔见乾坤.pdf', 'total_pages': 13}\n"
     ]
    }
   ],
   "source": [
    "question_chinese = \"他们在第二讲中对Figure说了些什么？\"\n",
    "docs_chinese = vectordb_chinese.similarity_search(\n",
    "    question_chinese,\n",
    "    k=3,\n",
    "    filter={\"source\": \"../docs/matplotlib/第二回：艺术画笔见乾坤.pdf\"},\n",
    ")\n",
    "for d in docs_chinese:\n",
    "    print(d.metadata)"
   ]
  },
  {
   "cell_type": "code",
   "execution_count": 21,
   "metadata": {},
   "outputs": [],
   "source": [
    "from langchain.retrievers.self_query.base import SelfQueryRetriever\n",
    "from langchain.chains.query_constructor.base import AttributeInfo\n",
    "\n",
    "llm = ChatOllama(model=\"qwen2.5\", temperature=0.0)"
   ]
  },
  {
   "cell_type": "code",
   "execution_count": 26,
   "metadata": {},
   "outputs": [],
   "source": [
    "metadata_field_info_chinese = [\n",
    "    AttributeInfo(\n",
    "        name=\"source\",\n",
    "        description=\"The lecture the chunk is from, should be one of `../docs/matplotlib/第一回：Matplotlib初相识.pdf`, `../docs/matplotlib/第二回：艺术画笔见乾坤.pdf`, or `../docs/matplotlib/第三回：布局格式定方圆.pdf`\",\n",
    "        type=\"string\",\n",
    "    ),\n",
    "    AttributeInfo(\n",
    "        name=\"page\",\n",
    "        description=\"The page from the lecture\",\n",
    "        type=\"integer\",\n",
    "    ),\n",
    "]\n",
    "\n",
    "document_content_description_chinese = \"Matplotlib 课堂讲义\"\n",
    "retriever_chinese = SelfQueryRetriever.from_llm(\n",
    "    llm,\n",
    "    vectordb_chinese,\n",
    "    document_content_description_chinese,\n",
    "    metadata_field_info_chinese,\n",
    "    verbose=True,\n",
    ")\n",
    "\n",
    "question_chinese = \"他们在第二讲中对Figure做了些什么？\""
   ]
  },
  {
   "cell_type": "code",
   "execution_count": 27,
   "metadata": {},
   "outputs": [],
   "source": [
    "docs_chinese = retriever_chinese.get_relevant_documents(question_chinese)"
   ]
  },
  {
   "cell_type": "code",
   "execution_count": 28,
   "metadata": {},
   "outputs": [],
   "source": [
    "for d in docs_chinese:\n",
    "    print(d.metadata)"
   ]
  },
  {
   "cell_type": "code",
   "execution_count": null,
   "metadata": {},
   "outputs": [],
   "source": []
  },
  {
   "cell_type": "code",
   "execution_count": null,
   "metadata": {},
   "outputs": [],
   "source": [
    "docs_chinese = retriever_chinese.invoke(question_chinese)"
   ]
  }
 ],
 "metadata": {
  "kernelspec": {
   "display_name": "llm_env",
   "language": "python",
   "name": "python3"
  },
  "language_info": {
   "codemirror_mode": {
    "name": "ipython",
    "version": 3
   },
   "file_extension": ".py",
   "mimetype": "text/x-python",
   "name": "python",
   "nbconvert_exporter": "python",
   "pygments_lexer": "ipython3",
   "version": "3.10.16"
  }
 },
 "nbformat": 4,
 "nbformat_minor": 2
}
