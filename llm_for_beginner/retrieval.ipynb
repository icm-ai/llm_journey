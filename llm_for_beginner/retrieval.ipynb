{
 "cells": [
  {
   "cell_type": "code",
   "execution_count": 1,
   "metadata": {},
   "outputs": [],
   "source": [
    "from IPython.display import display, Markdown"
   ]
  },
  {
   "cell_type": "code",
   "execution_count": 20,
   "metadata": {},
   "outputs": [],
   "source": [
    "from langchain_ollama import ChatOllama\n",
    "from langchain_ollama import OllamaEmbeddings  # ollama嵌入"
   ]
  },
  {
   "cell_type": "code",
   "execution_count": 1,
   "metadata": {},
   "outputs": [
    {
     "name": "stderr",
     "output_type": "stream",
     "text": [
      "/var/folders/hm/wyn_k9d108zfv2y674p1hv_r0000gn/T/ipykernel_57490/3332570400.py:8: LangChainDeprecationWarning: The class `Chroma` was deprecated in LangChain 0.2.9 and will be removed in 1.0. An updated version of the class exists in the :class:`~langchain-chroma package and should be used instead. To use it run `pip install -U :class:`~langchain-chroma` and import as `from :class:`~langchain_chroma import Chroma``.\n",
      "  vectordb_chinese = Chroma(\n"
     ]
    },
    {
     "name": "stdout",
     "output_type": "stream",
     "text": [
      "27\n"
     ]
    }
   ],
   "source": [
    "from langchain.vectorstores import Chroma\n",
    "from langchain_ollama import OllamaEmbeddings  # ollama嵌入\n",
    "\n",
    "persist_directory_chinese = \"../docs/chroma/matplotlib/\"\n",
    "\n",
    "embedding = OllamaEmbeddings(model=\"qwen2.5\")\n",
    "\n",
    "vectordb_chinese = Chroma(\n",
    "    persist_directory=persist_directory_chinese, embedding_function=embedding\n",
    ")\n",
    "\n",
    "print(vectordb_chinese._collection.count())"
   ]
  },
  {
   "cell_type": "code",
   "execution_count": 2,
   "metadata": {},
   "outputs": [],
   "source": [
    "texts_chinese = [\n",
    "    \"\"\"毒鹅膏菌（Amanita phalloides）具有大型且引人注目的地上（epigeous）子实体（basidiocarp）\"\"\",\n",
    "    \"\"\"一种具有大型子实体的蘑菇是毒鹅膏菌（Amanita phalloides）。某些品种全白。\"\"\",\n",
    "    \"\"\"A. phalloides，又名死亡帽，是已知所有蘑菇中最有毒的一种。\"\"\",\n",
    "]"
   ]
  },
  {
   "cell_type": "code",
   "execution_count": 3,
   "metadata": {},
   "outputs": [],
   "source": [
    "smalldb_chinese = Chroma.from_texts(texts_chinese, embedding=embedding)"
   ]
  },
  {
   "cell_type": "code",
   "execution_count": 6,
   "metadata": {},
   "outputs": [
    {
     "data": {
      "text/plain": [
       "[Document(metadata={}, page_content='毒鹅膏菌（Amanita phalloides）具有大型且引人注目的地上（epigeous）子实体（basidiocarp）'),\n",
       " Document(metadata={}, page_content='一种具有大型子实体的蘑菇是毒鹅膏菌（Amanita phalloides）。某些品种全白。')]"
      ]
     },
     "execution_count": 6,
     "metadata": {},
     "output_type": "execute_result"
    }
   ],
   "source": [
    "question_chinese = \"告诉我关于具有大型子实体的全白色蘑菇的信息\"\n",
    "smalldb_chinese.similarity_search(question_chinese, k=2)"
   ]
  },
  {
   "cell_type": "code",
   "execution_count": 7,
   "metadata": {},
   "outputs": [
    {
     "data": {
      "text/plain": [
       "[Document(metadata={}, page_content='毒鹅膏菌（Amanita phalloides）具有大型且引人注目的地上（epigeous）子实体（basidiocarp）'),\n",
       " Document(metadata={}, page_content='A. phalloides，又名死亡帽，是已知所有蘑菇中最有毒的一种。')]"
      ]
     },
     "execution_count": 7,
     "metadata": {},
     "output_type": "execute_result"
    }
   ],
   "source": [
    "smalldb_chinese.max_marginal_relevance_search(question_chinese, k=2, fetch_k=3)"
   ]
  },
  {
   "cell_type": "code",
   "execution_count": 8,
   "metadata": {},
   "outputs": [
    {
     "name": "stdout",
     "output_type": "stream",
     "text": [
      "docs[0]: \n",
      "第⼆回：艺术画笔⻅乾坤\n",
      "import numpy as np\n",
      "import pandas as pd\n",
      "import re\n",
      "import matplotlib\n",
      "import matplotlib.pyp\n",
      "\n",
      "docs[1]: \n",
      "4. Tick 容器\n",
      "matplotlib.axis.Tick是从Figure到Axes到Axis到Tick中最末端的容器对象。\n",
      "Tick包含了tick、grid line实例以及对应的label。\n",
      "\n"
     ]
    }
   ],
   "source": [
    "question_chinese = \"Matplotlib是什么？\"\n",
    "docs_ss_chinese = vectordb_chinese.similarity_search(question_chinese, k=3)\n",
    "\n",
    "print(\"docs[0]: \")\n",
    "print(docs_ss_chinese[0].page_content[:100])\n",
    "print()\n",
    "print(\"docs[1]: \")\n",
    "print(docs_ss_chinese[1].page_content[:100])"
   ]
  },
  {
   "cell_type": "code",
   "execution_count": 11,
   "metadata": {},
   "outputs": [
    {
     "name": "stdout",
     "output_type": "stream",
     "text": [
      "第⼆回：艺术画笔⻅乾坤\n",
      "import numpy as np\n",
      "import pandas as pd\n",
      "import re\n",
      "import matplotlib\n",
      "import matplotlib.pyp\n",
      "# 2. Line2D 对象绘制\n",
      "x = range(0,5)\n",
      "y1 = [2,5,7,8,10]\n",
      "y2= [3,6,8,9,11]\n",
      "fig,ax= plt.subplots()\n",
      "lines = [L\n"
     ]
    }
   ],
   "source": [
    "docs_mmr_chinese = vectordb_chinese.max_marginal_relevance_search(question_chinese, k=3)\n",
    "print(docs_mmr_chinese[0].page_content[:100])\n",
    "print(docs_mmr_chinese[1].page_content[:100])"
   ]
  },
  {
   "cell_type": "code",
   "execution_count": 30,
   "metadata": {},
   "outputs": [
    {
     "name": "stdout",
     "output_type": "stream",
     "text": [
      "{'creationdate': '2023-07-11T13:58:07+00:00', 'creator': 'Mozilla/5.0 (Macintosh; Intel Mac OS X 10_15_7) AppleWebKit/537.36 (KHTML, like Gecko) Chrome/114.0.0.0 Safari/537.36', 'moddate': '2023-07-12T10:54:41+08:00', 'page': 0, 'page_label': '1', 'producer': 'Skia/PDF m114', 'source': '../docs/matplotlib/第二回：艺术画笔见乾坤.pdf', 'total_pages': 13}\n",
      "{'creationdate': '2023-07-11T13:58:07+00:00', 'creator': 'Mozilla/5.0 (Macintosh; Intel Mac OS X 10_15_7) AppleWebKit/537.36 (KHTML, like Gecko) Chrome/114.0.0.0 Safari/537.36', 'moddate': '2023-07-12T10:54:41+08:00', 'page': 11, 'page_label': '12', 'producer': 'Skia/PDF m114', 'source': '../docs/matplotlib/第二回：艺术画笔见乾坤.pdf', 'total_pages': 13}\n",
      "{'creationdate': '2023-07-11T13:58:07+00:00', 'creator': 'Mozilla/5.0 (Macintosh; Intel Mac OS X 10_15_7) AppleWebKit/537.36 (KHTML, like Gecko) Chrome/114.0.0.0 Safari/537.36', 'moddate': '2023-07-12T10:54:41+08:00', 'page': 3, 'page_label': '4', 'producer': 'Skia/PDF m114', 'source': '../docs/matplotlib/第二回：艺术画笔见乾坤.pdf', 'total_pages': 13}\n"
     ]
    }
   ],
   "source": [
    "question_chinese = \"他们在第二讲中对Figure说了些什么？\"\n",
    "docs_chinese = vectordb_chinese.similarity_search(\n",
    "    question_chinese,\n",
    "    k=3,\n",
    "    filter={\"source\": \"../docs/matplotlib/第二回：艺术画笔见乾坤.pdf\"},\n",
    ")\n",
    "for d in docs_chinese:\n",
    "    print(d.metadata)"
   ]
  },
  {
   "cell_type": "code",
   "execution_count": 31,
   "metadata": {},
   "outputs": [],
   "source": [
    "from langchain.retrievers.self_query.base import SelfQueryRetriever\n",
    "from langchain.chains.query_constructor.base import AttributeInfo\n",
    "\n",
    "llm = ChatOllama(model=\"qwen2.5\", temperature=0.0)"
   ]
  },
  {
   "cell_type": "code",
   "execution_count": 32,
   "metadata": {},
   "outputs": [],
   "source": [
    "metadata_field_info_chinese = [\n",
    "    AttributeInfo(\n",
    "        name=\"source\",\n",
    "        description=\"The lecture the chunk is from, should be one of `../docs/matplotlib/第一回：Matplotlib初相识.pdf`, `../docs/matplotlib/第二回：艺术画笔见乾坤.pdf`, or `../docs/matplotlib/第三回：布局格式定方圆.pdf`\",\n",
    "        type=\"string\",\n",
    "    ),\n",
    "    AttributeInfo(\n",
    "        name=\"page\",\n",
    "        description=\"The page from the lecture\",\n",
    "        type=\"integer\",\n",
    "    ),\n",
    "]\n",
    "\n",
    "document_content_description_chinese = \"Matplotlib 课堂讲义\"\n",
    "retriever_chinese = SelfQueryRetriever.from_llm(\n",
    "    llm,\n",
    "    vectordb_chinese,\n",
    "    document_content_description_chinese,\n",
    "    metadata_field_info_chinese,\n",
    "    verbose=True,\n",
    ")\n",
    "\n",
    "question_chinese = \"他们在第二讲中对Figure做了些什么？\""
   ]
  },
  {
   "cell_type": "code",
   "execution_count": 38,
   "metadata": {},
   "outputs": [],
   "source": [
    "docs_chinese = retriever_chinese.get_relevant_documents(question_chinese)\n",
    "for d in docs_chinese:\n",
    "    print(d.metadata)\n",
    "\n",
    "docs_chinese = retriever_chinese.invoke(question_chinese)\n",
    "for d in docs_chinese:\n",
    "    print(d.metadata)"
   ]
  },
  {
   "cell_type": "code",
   "execution_count": null,
   "metadata": {},
   "outputs": [],
   "source": []
  },
  {
   "cell_type": "code",
   "execution_count": 39,
   "metadata": {},
   "outputs": [
    {
     "name": "stdout",
     "output_type": "stream",
     "text": [
      "Document 1:\n",
      "\n",
      "import matplotlib  \n",
      "import matplotlib.pyplot as plt  \n",
      "from matplotlib.lines import Line2D   \n",
      "from matplotlib.patches import Circle, Wedge  \n",
      "from matplotlib.collections import PatchCollection  \n",
      "matplotlib.backend_bases.FigureCanvas 代表了绘图区，所有的图像都是在绘图区完成的  \n",
      "matplotlib.backend_bases.Renderer 代表了渲染器，可以近似理解为画笔，控制如何在  FigureCanvas 上画图。  \n",
      "matplotlib.artist.Artist 代表了具体的图表组件，即调用了 Renderer 的接口在 Canvas 上作图。\n"
     ]
    }
   ],
   "source": [
    "from langchain.retrievers import ContextualCompressionRetriever\n",
    "from langchain.retrievers.document_compressors import LLMChainExtractor\n",
    "\n",
    "\n",
    "def pretty_print_docs(docs):\n",
    "    print(\n",
    "        f\"\\n{'-' * 100}\\n\".join(\n",
    "            [f\"Document {i+1}:\\n\\n\" + d.page_content for i, d in enumerate(docs)]\n",
    "        )\n",
    "    )\n",
    "\n",
    "llm = ChatOllama(model=\"qwen2.5\", temperature=0.0)\n",
    "compressor = LLMChainExtractor.from_llm(llm)  # 压缩器\n",
    "\n",
    "compression_retriever_chinese = ContextualCompressionRetriever(\n",
    "    base_compressor=compressor, base_retriever=vectordb_chinese.as_retriever()\n",
    ")\n",
    "# 对源文档进行压缩\n",
    "\n",
    "question_chinese = \"Matplotlib是什么？\"\n",
    "compressed_docs_chinese = compression_retriever_chinese.get_relevant_documents(\n",
    "    question_chinese\n",
    ")\n",
    "pretty_print_docs(compressed_docs_chinese)"
   ]
  },
  {
   "cell_type": "code",
   "execution_count": 41,
   "metadata": {},
   "outputs": [
    {
     "name": "stdout",
     "output_type": "stream",
     "text": [
      "Document 1:\n",
      "\n",
      "import matplotlib  \n",
      "import matplotlib.pyplot as plt  \n",
      "from matplotlib.lines import Line2D   \n",
      "from matplotlib.patches import Circle, Wedge  \n",
      "from matplotlib.collections import PatchCollection  \n",
      "matplotlib.backend_bases.FigureCanvas 代表了绘图区，所有的图像都是在绘图区完成的  \n",
      "matplotlib.backend_bases.Renderer 代表了渲染器，可以近似理解为画笔，控制如何在  FigureCanvas 上画图。  \n",
      "matplotlib.artist.Artist 代表了具体的图表组件，即调用了 Renderer 的接口在 Canvas 上作图。\n"
     ]
    }
   ],
   "source": [
    "compression_retriever_chinese = ContextualCompressionRetriever(\n",
    "    base_compressor=compressor,\n",
    "    base_retriever=vectordb_chinese.as_retriever(search_type=\"mmr\"),\n",
    ")\n",
    "\n",
    "question_chinese = \"Matplotlib是什么？\"\n",
    "compressed_docs_chinese = compression_retriever_chinese.get_relevant_documents(\n",
    "    question_chinese\n",
    ")\n",
    "pretty_print_docs(compressed_docs_chinese)"
   ]
  },
  {
   "cell_type": "code",
   "execution_count": 43,
   "metadata": {},
   "outputs": [],
   "source": [
    "from langchain.retrievers import SVMRetriever\n",
    "from langchain.retrievers import TFIDFRetriever\n",
    "from langchain.document_loaders import PyPDFLoader\n",
    "from langchain.text_splitter import RecursiveCharacterTextSplitter\n",
    "\n",
    "# 加载PDF\n",
    "loader_chinese = PyPDFLoader(\"../docs/matplotlib/第一回：Matplotlib初相识.pdf\")\n",
    "pages_chinese = loader_chinese.load()\n",
    "all_page_text_chinese = [p.page_content for p in pages_chinese]\n",
    "joined_page_text_chinese = \" \".join(all_page_text_chinese)\n",
    "\n",
    "# 分割文本\n",
    "text_splitter_chinese = RecursiveCharacterTextSplitter(\n",
    "    chunk_size=1500, chunk_overlap=150\n",
    ")\n",
    "splits_chinese = text_splitter_chinese.split_text(joined_page_text_chinese)\n",
    "\n",
    "# 检索\n",
    "svm_retriever = SVMRetriever.from_texts(splits_chinese, embedding)\n",
    "tfidf_retriever = TFIDFRetriever.from_texts(splits_chinese)"
   ]
  },
  {
   "cell_type": "code",
   "execution_count": 44,
   "metadata": {},
   "outputs": [
    {
     "name": "stdout",
     "output_type": "stream",
     "text": [
      "page_content='第⼀回： Matplotlib 初相识\n",
      "⼀、认识 matplotlib\n",
      "Matplotlib 是⼀个 Python 2D 绘图库，能够以多种硬拷⻉格式和跨平台的交互式环境⽣成出版物质量的图形，⽤来绘制各种静态，动态，\n",
      "交互式的图表。\n",
      "Matplotlib 可⽤于 Python 脚本， Python 和 IPython Shell 、 Jupyter notebook ， Web 应⽤程序服务器和各种图形⽤户界⾯⼯具包等。\n",
      "Matplotlib 是 Python 数据可视化库中的泰⽃，它已经成为 python 中公认的数据可视化⼯具，我们所熟知的 pandas 和 seaborn 的绘图接⼝\n",
      "其实也是基于 matplotlib 所作的⾼级封装。\n",
      "为了对 matplotlib 有更好的理解，让我们从⼀些最基本的概念开始认识它，再逐渐过渡到⼀些⾼级技巧中。\n",
      "⼆、⼀个最简单的绘图例⼦\n",
      "Matplotlib 的图像是画在 figure （如 windows ， jupyter 窗体）上的，每⼀个 figure ⼜包含了⼀个或多个 axes （⼀个可以指定坐标系的⼦区\n",
      "域）。最简单的创建 figure 以及 axes 的⽅式是通过pyplot.subplots命令，创建 axes 以后，可以使⽤Axes.plot绘制最简易的折线图。\n",
      "import matplotlib.pyplot as plt\n",
      "import matplotlib as mpl\n",
      "import numpy as np\n",
      "fig, ax = plt.subplots()  # 创建⼀个包含⼀个 axes 的 figure\n",
      "ax.plot([1, 2, 3, 4], [1, 4, 2, 3]);  # 绘制图像\n",
      "Trick：  在 jupyter notebook 中使⽤ matplotlib 时会发现，代码运⾏后⾃动打印出类似<matplotlib.lines.Line2D at 0x23155916dc0>\n",
      "这样⼀段话，这是因为 matplotlib 的绘图代码默认打印出最后⼀个对象。如果不想显示这句话，有以下三种⽅法，在本章节的代码示例\n",
      "中你能找到这三种⽅法的使⽤。\n",
      "\u0000. 在代码块最后加⼀个分号;\n",
      "\u0000. 在代码块最后加⼀句 plt.show()\n",
      "\u0000. 在绘图时将绘图对象显式赋值给⼀个变量，如将 plt.plot([1, 2, 3, 4]) 改成 line =plt.plot([1, 2, 3, 4])\n",
      "和 MATLAB 命令类似，你还可以通过⼀种更简单的⽅式绘制图像，matplotlib.pyplot⽅法能够直接在当前 axes 上绘制图像，如果⽤户\n",
      "未指定 axes ， matplotlib 会帮你⾃动创建⼀个。所以上⾯的例⼦也可以简化为以下这⼀⾏代码。\n",
      "line =plt.plot([1, 2, 3, 4], [1, 4, 2, 3]) \n",
      "三、 Figure 的组成\n",
      "现在我们来深⼊看⼀下 figure 的组成。通过⼀张 figure 解剖图，我们可以看到⼀个完整的 matplotlib 图像通常会包括以下四个层级，这些\n",
      "层级也被称为容器（ container ），下⼀节会详细介绍。在 matplotlib 的世界中，我们将通过各种命令⽅法来操纵图像中的每⼀个部分，\n",
      "从⽽达到数据可视化的最终效果，⼀副完整的图像实际上是各类⼦元素的集合。'\n"
     ]
    }
   ],
   "source": [
    "question_chinese = \"这门课的主要主题是什么？\"\n",
    "docs_svm_chinese = svm_retriever.get_relevant_documents(question_chinese)\n",
    "print(docs_svm_chinese[0])"
   ]
  },
  {
   "cell_type": "code",
   "execution_count": 45,
   "metadata": {},
   "outputs": [
    {
     "name": "stdout",
     "output_type": "stream",
     "text": [
      "page_content='fig, ax = plt.subplots()  \n",
      "# step4 绘制图像，  这⼀模块的扩展参考第⼆章进⼀步学习\n",
      "ax.plot(x, y, label='linear')  \n",
      "# step5 添加标签，⽂字和图例，这⼀模块的扩展参考第四章进⼀步学习\n",
      "ax.set_xlabel('x label') \n",
      "ax.set_ylabel('y label') \n",
      "ax.set_title(\"Simple Plot\")  \n",
      "ax.legend() ;\n",
      "思考题\n",
      "请思考两种绘图模式的优缺点和各⾃适合的使⽤场景\n",
      "在第五节绘图模板中我们是以 OO 模式作为例⼦展示的，请思考并写⼀个 pyplot 绘图模式的简单模板'\n"
     ]
    }
   ],
   "source": [
    "question_chinese = \"Matplotlib是什么？\"\n",
    "docs_tfidf_chinese = tfidf_retriever.get_relevant_documents(question_chinese)\n",
    "print(docs_tfidf_chinese[0])"
   ]
  },
  {
   "cell_type": "code",
   "execution_count": null,
   "metadata": {},
   "outputs": [],
   "source": []
  },
  {
   "cell_type": "code",
   "execution_count": null,
   "metadata": {},
   "outputs": [],
   "source": []
  },
  {
   "cell_type": "code",
   "execution_count": null,
   "metadata": {},
   "outputs": [],
   "source": []
  },
  {
   "cell_type": "code",
   "execution_count": null,
   "metadata": {},
   "outputs": [],
   "source": []
  }
 ],
 "metadata": {
  "kernelspec": {
   "display_name": "llm_env",
   "language": "python",
   "name": "python3"
  },
  "language_info": {
   "codemirror_mode": {
    "name": "ipython",
    "version": 3
   },
   "file_extension": ".py",
   "mimetype": "text/x-python",
   "name": "python",
   "nbconvert_exporter": "python",
   "pygments_lexer": "ipython3",
   "version": "3.10.16"
  }
 },
 "nbformat": 4,
 "nbformat_minor": 2
}
