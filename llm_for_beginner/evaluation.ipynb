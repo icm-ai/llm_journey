{
 "cells": [
  {
   "cell_type": "code",
   "execution_count": 18,
   "metadata": {},
   "outputs": [],
   "source": [
    "from IPython.display import display, Markdown  # 在jupyter显示信息的工具\n",
    "\n",
    "from langchain.chains import RetrievalQA #检索QA链，在文档上进行检索\n",
    "# from langchain.chat_models import ChatOpenAI #openai模型\n",
    "from langchain.document_loaders import CSVLoader #文档加载器，采用csv格式存储\n",
    "from langchain.indexes import VectorstoreIndexCreator #导入向量存储索引创建器\n",
    "from langchain.vectorstores import DocArrayInMemorySearch #向量存储\n",
    "from langchain_ollama import ChatOllama\n",
    "from langchain_ollama import OllamaEmbeddings  # ollama嵌入\n",
    "\n",
    "import pandas as pd"
   ]
  },
  {
   "cell_type": "code",
   "execution_count": 17,
   "metadata": {},
   "outputs": [
    {
     "data": {
      "text/plain": [
       "(25, 2)"
      ]
     },
     "metadata": {},
     "output_type": "display_data"
    },
    {
     "data": {
      "text/html": [
       "<div>\n",
       "<style scoped>\n",
       "    .dataframe tbody tr th:only-of-type {\n",
       "        vertical-align: middle;\n",
       "    }\n",
       "\n",
       "    .dataframe tbody tr th {\n",
       "        vertical-align: top;\n",
       "    }\n",
       "\n",
       "    .dataframe thead th {\n",
       "        text-align: right;\n",
       "    }\n",
       "</style>\n",
       "<table border=\"1\" class=\"dataframe\">\n",
       "  <thead>\n",
       "    <tr style=\"text-align: right;\">\n",
       "      <th></th>\n",
       "      <th>product_name</th>\n",
       "      <th>description</th>\n",
       "    </tr>\n",
       "  </thead>\n",
       "  <tbody>\n",
       "    <tr>\n",
       "      <th>0</th>\n",
       "      <td>全自动咖啡机</td>\n",
       "      <td>规格:\\n大型 - 尺寸：13.8'' x 17.3''。\\n中型 - 尺寸：11.5'' ...</td>\n",
       "    </tr>\n",
       "    <tr>\n",
       "      <th>1</th>\n",
       "      <td>电动牙刷</td>\n",
       "      <td>规格:\\n一般大小 - 高度：9.5''，宽度：1''。\\n\\n为什么我们热爱它:\\n我们的...</td>\n",
       "    </tr>\n",
       "    <tr>\n",
       "      <th>2</th>\n",
       "      <td>橙味维生素C泡腾片</td>\n",
       "      <td>规格:\\n每盒含有20片。\\n\\n为什么我们热爱它:\\n我们的橙味维生素C泡腾片是快速补充维...</td>\n",
       "    </tr>\n",
       "    <tr>\n",
       "      <th>3</th>\n",
       "      <td>无线蓝牙耳机</td>\n",
       "      <td>规格:\\n单个耳机尺寸：1.5'' x 1.3''。\\n\\n为什么我们热爱它:\\n这款无线蓝...</td>\n",
       "    </tr>\n",
       "    <tr>\n",
       "      <th>4</th>\n",
       "      <td>瑜伽垫</td>\n",
       "      <td>规格:\\n尺寸：24'' x 68''。\\n\\n为什么我们热爱它:\\n我们的瑜伽垫拥有出色的...</td>\n",
       "    </tr>\n",
       "  </tbody>\n",
       "</table>\n",
       "</div>"
      ],
      "text/plain": [
       "  product_name                                        description\n",
       "0       全自动咖啡机  规格:\\n大型 - 尺寸：13.8'' x 17.3''。\\n中型 - 尺寸：11.5'' ...\n",
       "1         电动牙刷  规格:\\n一般大小 - 高度：9.5''，宽度：1''。\\n\\n为什么我们热爱它:\\n我们的...\n",
       "2    橙味维生素C泡腾片  规格:\\n每盒含有20片。\\n\\n为什么我们热爱它:\\n我们的橙味维生素C泡腾片是快速补充维...\n",
       "3       无线蓝牙耳机  规格:\\n单个耳机尺寸：1.5'' x 1.3''。\\n\\n为什么我们热爱它:\\n这款无线蓝...\n",
       "4          瑜伽垫  规格:\\n尺寸：24'' x 68''。\\n\\n为什么我们热爱它:\\n我们的瑜伽垫拥有出色的..."
      ]
     },
     "metadata": {},
     "output_type": "display_data"
    }
   ],
   "source": [
    "# 加载中文数据\n",
    "file = \"../data/product_data.csv\"\n",
    "loader = CSVLoader(file_path=file)\n",
    "data = loader.load()\n",
    "\n",
    "# 查看数据\n",
    "test_data = pd.read_csv(file, skiprows=0)\n",
    "display(test_data.shape)\n",
    "display(test_data.head())"
   ]
  },
  {
   "cell_type": "code",
   "execution_count": 13,
   "metadata": {},
   "outputs": [
    {
     "name": "stderr",
     "output_type": "stream",
     "text": [
      "/opt/anaconda3/envs/llm_env/lib/python3.10/site-packages/pydantic/_migration.py:283: UserWarning: `pydantic.error_wrappers:ValidationError` has been moved to `pydantic:ValidationError`.\n",
      "  warnings.warn(f'`{import_path}` has been moved to `{new_location}`.')\n"
     ]
    }
   ],
   "source": [
    "# 创建 Ollama 嵌入模型实例\n",
    "embeddings = OllamaEmbeddings(model=\"qwen2.5\")  # 或其他在 Ollama 中安装的模型名称\n",
    "# 将指定向量存储类,创建完成后，我们将从加载器中调用,通过文档记载器列表加载\n",
    "index = VectorstoreIndexCreator(vectorstore_cls=DocArrayInMemorySearch, embedding=embeddings,  # 添加 embedding 参数\n",
    ").from_loaders(\n",
    "    [loader]\n",
    ")\n",
    "\n",
    "# 通过指定语言模型、链类型、检索器和我们要打印的详细程度来创建检索QA链\n",
    "llm = ChatOllama(model=\"qwen2.5\", temperature=0.0)  # 使用ollama模型\n",
    "qa = RetrievalQA.from_chain_type(\n",
    "    llm=llm,\n",
    "    chain_type=\"stuff\",\n",
    "    retriever=index.vectorstore.as_retriever(),\n",
    "    verbose=True,\n",
    "    chain_type_kwargs={\"document_separator\": \"<<<<>>>>>\"},\n",
    ")"
   ]
  },
  {
   "cell_type": "code",
   "execution_count": 22,
   "metadata": {},
   "outputs": [
    {
     "data": {
      "text/plain": [
       "Document(metadata={'source': '../data/product_data.csv', 'row': 10}, page_content=\"product_name: 高清电视机\\ndescription: 规格:\\n尺寸：50''。\\n\\n为什么我们热爱它:\\n我们的高清电视机拥有出色的画质和强大的音效，带来沉浸式的观看体验。\\n\\n材质与护理:\\n使用干布清洁。\\n\\n构造:\\n由塑料、金属和电子元件制成。\\n\\n其他特性:\\n支持网络连接，可以在线观看视频。\\n配备遥控器。\\n在韩国制造。\\n\\n有问题？请随时联系我们的客户服务团队，他们会解答您的所有问题。\")"
      ]
     },
     "execution_count": 22,
     "metadata": {},
     "output_type": "execute_result"
    }
   ],
   "source": [
    "data[10]"
   ]
  },
  {
   "cell_type": "code",
   "execution_count": 21,
   "metadata": {},
   "outputs": [
    {
     "data": {
      "text/plain": [
       "Document(metadata={'source': '../data/product_data.csv', 'row': 11}, page_content=\"product_name: 旅行背包\\ndescription: 规格:\\n尺寸：18'' x 12'' x 6''。\\n\\n为什么我们热爱它:\\n我们的旅行背包拥有多个实用的内外袋，轻松装下您的必需品，是短途旅行的理想选择。\\n\\n材质与护理:\\n可以手洗，自然晾干。\\n\\n构造:\\n由防水尼龙制成。\\n\\n其他特性:\\n附带可调节背带和安全锁。\\n在中国制造。\\n\\n有问题？请随时联系我们的客户服务团队，他们会解答您的所有问题。\")"
      ]
     },
     "execution_count": 21,
     "metadata": {},
     "output_type": "execute_result"
    }
   ],
   "source": [
    "data[11]"
   ]
  },
  {
   "cell_type": "code",
   "execution_count": 25,
   "metadata": {},
   "outputs": [
    {
     "name": "stdout",
     "output_type": "stream",
     "text": [
      "<class 'list'>\n",
      "{'query': '高清电视机怎么进行护理？', 'answer': '使用干布清洁。'}\n"
     ]
    }
   ],
   "source": [
    "examples = [\n",
    "    {\"query\": \"高清电视机怎么进行护理？\", \"answer\": \"使用干布清洁。\"},\n",
    "    {\"query\": \"旅行背包有内外袋吗？\", \"answer\": \"有。\"},\n",
    "]\n",
    "print(type(examples))\n",
    "print(examples[0])"
   ]
  },
  {
   "cell_type": "code",
   "execution_count": null,
   "metadata": {},
   "outputs": [],
   "source": []
  },
  {
   "cell_type": "code",
   "execution_count": null,
   "metadata": {},
   "outputs": [
    {
     "data": {
      "text/plain": [
       "[{'qa_pairs': {'query': '这款全自动咖啡机有哪些尺寸选项？',\n",
       "   'answer': \"这款全自动咖啡机有两种尺寸选项：大型 - 尺寸为13.8'' x 17.3''；中型 - 尺寸为11.5'' x 15.2''。\"}},\n",
       " {'qa_pairs': {'query': '根据文档中的描述，这款电动牙刷有哪些清洁模式和功能？',\n",
       "   'answer': '文档中提到，这款电动牙刷具有多种清洁模式和其他特性，具体包括定时功能。'}},\n",
       " {'qa_pairs': {'query': '这款维生素C泡腾片每盒含有多少片？', 'answer': '每盒含有20片。'}},\n",
       " {'qa_pairs': {'query': '这款无线蓝牙耳机有哪些主要特点和规格？',\n",
       "   'answer': '这款无线蓝牙耳机的主要特点包括：配备了降噪技术、长达8小时的电池续航力、快速充电功能以及内置麦克风支持接听电话。其规格方面，单个耳机尺寸为1.5英寸 x 1.3英寸，并且由耐用的塑料和金属构成，配备有软质耳塞。此外，清洁时只需用湿布擦拭即可。这款产品是在韩国制造的。'}},\n",
       " {'qa_pairs': {'query': '这款瑜伽垫的尺寸是多少？', 'answer': '这款瑜伽垫的尺寸是24英寸 x 68英寸。'}}]"
      ]
     },
     "execution_count": 26,
     "metadata": {},
     "output_type": "execute_result"
    }
   ],
   "source": [
    "from langchain.evaluation.qa import (\n",
    "    QAGenerateChain,\n",
    ")  # 导入QA生成链，它将接收文档，并从每个文档中创建一个问题答案对\n",
    "\n",
    "# 下面是langchain.evaluation.qa.generate_prompt中的源码，在template的最后加上“请使用中文输出”\n",
    "from langchain.output_parsers.regex import RegexParser\n",
    "from langchain.prompts import PromptTemplate\n",
    "from langchain.base_language import BaseLanguageModel\n",
    "from typing import Any\n",
    "\n",
    "template = \"\"\"You are a teacher coming up with questions to ask on a quiz. \n",
    "Given the following document, please generate a question and answer based on that document.\n",
    "\n",
    "Example Format:\n",
    "<Begin Document>\n",
    "...\n",
    "<End Document>\n",
    "QUESTION: question here\n",
    "ANSWER: answer here\n",
    "\n",
    "These questions should be detailed and be based explicitly on information in the document. Begin!\n",
    "\n",
    "<Begin Document>\n",
    "{doc}\n",
    "<End Document>\n",
    "请使用中文输出\n",
    "\"\"\"\n",
    "output_parser = RegexParser(\n",
    "    regex=r\"QUESTION: (.*?)\\nANSWER: (.*)\", output_keys=[\"query\", \"answer\"]\n",
    ")\n",
    "PROMPT = PromptTemplate(\n",
    "    input_variables=[\"doc\"], template=template, output_parser=output_parser\n",
    ")\n",
    "\n",
    "\n",
    "# 继承QAGenerateChain\n",
    "class ChineseQAGenerateChain(QAGenerateChain):\n",
    "    \"\"\"LLM Chain specifically for generating examples for question answering.\"\"\"\n",
    "\n",
    "    @classmethod\n",
    "    def from_llm(cls, llm: BaseLanguageModel, **kwargs: Any) -> QAGenerateChain:\n",
    "        \"\"\"Load QA Generate Chain from LLM.\"\"\"\n",
    "        return cls(llm=llm, prompt=PROMPT, **kwargs)\n",
    "\n",
    "\n",
    "example_gen_chain = ChineseQAGenerateChain.from_llm(\n",
    "    ChatOllama(model=\"qwen2.5\", temperature=0.0)  # 使用ollama模型\n",
    ")  # 通过传递 ollama 语言模型来创建这个链\n",
    "new_examples = example_gen_chain.apply([{\"doc\": t} for t in data[:5]])\n",
    "\n",
    "# 查看用例数据\n",
    "new_examples"
   ]
  },
  {
   "cell_type": "code",
   "execution_count": null,
   "metadata": {},
   "outputs": [],
   "source": []
  },
  {
   "cell_type": "code",
   "execution_count": null,
   "metadata": {},
   "outputs": [],
   "source": []
  },
  {
   "cell_type": "code",
   "execution_count": null,
   "metadata": {},
   "outputs": [],
   "source": []
  },
  {
   "cell_type": "code",
   "execution_count": null,
   "metadata": {},
   "outputs": [],
   "source": []
  },
  {
   "cell_type": "code",
   "execution_count": null,
   "metadata": {},
   "outputs": [],
   "source": []
  },
  {
   "cell_type": "code",
   "execution_count": null,
   "metadata": {},
   "outputs": [],
   "source": []
  },
  {
   "cell_type": "code",
   "execution_count": null,
   "metadata": {},
   "outputs": [],
   "source": []
  },
  {
   "cell_type": "code",
   "execution_count": null,
   "metadata": {},
   "outputs": [],
   "source": []
  },
  {
   "cell_type": "code",
   "execution_count": null,
   "metadata": {},
   "outputs": [],
   "source": []
  },
  {
   "cell_type": "code",
   "execution_count": null,
   "metadata": {},
   "outputs": [],
   "source": []
  },
  {
   "cell_type": "code",
   "execution_count": null,
   "metadata": {},
   "outputs": [],
   "source": []
  },
  {
   "cell_type": "code",
   "execution_count": null,
   "metadata": {},
   "outputs": [],
   "source": []
  },
  {
   "cell_type": "code",
   "execution_count": null,
   "metadata": {},
   "outputs": [],
   "source": []
  },
  {
   "cell_type": "code",
   "execution_count": null,
   "metadata": {},
   "outputs": [],
   "source": []
  },
  {
   "cell_type": "code",
   "execution_count": null,
   "metadata": {},
   "outputs": [],
   "source": []
  },
  {
   "cell_type": "code",
   "execution_count": null,
   "metadata": {},
   "outputs": [],
   "source": []
  },
  {
   "cell_type": "code",
   "execution_count": null,
   "metadata": {},
   "outputs": [],
   "source": []
  },
  {
   "cell_type": "code",
   "execution_count": null,
   "metadata": {},
   "outputs": [],
   "source": []
  },
  {
   "cell_type": "code",
   "execution_count": null,
   "metadata": {},
   "outputs": [],
   "source": []
  },
  {
   "cell_type": "code",
   "execution_count": null,
   "metadata": {},
   "outputs": [],
   "source": []
  },
  {
   "cell_type": "code",
   "execution_count": null,
   "metadata": {},
   "outputs": [],
   "source": []
  },
  {
   "cell_type": "code",
   "execution_count": null,
   "metadata": {},
   "outputs": [],
   "source": []
  }
 ],
 "metadata": {
  "kernelspec": {
   "display_name": "llm_env",
   "language": "python",
   "name": "python3"
  },
  "language_info": {
   "codemirror_mode": {
    "name": "ipython",
    "version": 3
   },
   "file_extension": ".py",
   "mimetype": "text/x-python",
   "name": "python",
   "nbconvert_exporter": "python",
   "pygments_lexer": "ipython3",
   "version": "3.10.16"
  }
 },
 "nbformat": 4,
 "nbformat_minor": 2
}
