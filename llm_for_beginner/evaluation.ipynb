{
 "cells": [
  {
   "cell_type": "code",
   "execution_count": 18,
   "metadata": {},
   "outputs": [],
   "source": [
    "from IPython.display import display, Markdown  # 在jupyter显示信息的工具\n",
    "\n",
    "from langchain.chains import RetrievalQA #检索QA链，在文档上进行检索\n",
    "# from langchain.chat_models import ChatOpenAI #openai模型\n",
    "from langchain.document_loaders import CSVLoader #文档加载器，采用csv格式存储\n",
    "from langchain.indexes import VectorstoreIndexCreator #导入向量存储索引创建器\n",
    "from langchain.vectorstores import DocArrayInMemorySearch #向量存储\n",
    "from langchain_ollama import ChatOllama\n",
    "from langchain_ollama import OllamaEmbeddings  # ollama嵌入\n",
    "\n",
    "import pandas as pd"
   ]
  },
  {
   "cell_type": "code",
   "execution_count": 52,
   "metadata": {},
   "outputs": [
    {
     "data": {
      "text/plain": [
       "(25, 2)"
      ]
     },
     "metadata": {},
     "output_type": "display_data"
    },
    {
     "data": {
      "text/html": [
       "<div>\n",
       "<style scoped>\n",
       "    .dataframe tbody tr th:only-of-type {\n",
       "        vertical-align: middle;\n",
       "    }\n",
       "\n",
       "    .dataframe tbody tr th {\n",
       "        vertical-align: top;\n",
       "    }\n",
       "\n",
       "    .dataframe thead th {\n",
       "        text-align: right;\n",
       "    }\n",
       "</style>\n",
       "<table border=\"1\" class=\"dataframe\">\n",
       "  <thead>\n",
       "    <tr style=\"text-align: right;\">\n",
       "      <th></th>\n",
       "      <th>product_name</th>\n",
       "      <th>description</th>\n",
       "    </tr>\n",
       "  </thead>\n",
       "  <tbody>\n",
       "    <tr>\n",
       "      <th>0</th>\n",
       "      <td>全自动咖啡机</td>\n",
       "      <td>规格:\\n大型 - 尺寸：13.8'' x 17.3''。\\n中型 - 尺寸：11.5'' ...</td>\n",
       "    </tr>\n",
       "    <tr>\n",
       "      <th>1</th>\n",
       "      <td>电动牙刷</td>\n",
       "      <td>规格:\\n一般大小 - 高度：9.5''，宽度：1''。\\n\\n为什么我们热爱它:\\n我们的...</td>\n",
       "    </tr>\n",
       "    <tr>\n",
       "      <th>2</th>\n",
       "      <td>橙味维生素C泡腾片</td>\n",
       "      <td>规格:\\n每盒含有20片。\\n\\n为什么我们热爱它:\\n我们的橙味维生素C泡腾片是快速补充维...</td>\n",
       "    </tr>\n",
       "    <tr>\n",
       "      <th>3</th>\n",
       "      <td>无线蓝牙耳机</td>\n",
       "      <td>规格:\\n单个耳机尺寸：1.5'' x 1.3''。\\n\\n为什么我们热爱它:\\n这款无线蓝...</td>\n",
       "    </tr>\n",
       "    <tr>\n",
       "      <th>4</th>\n",
       "      <td>瑜伽垫</td>\n",
       "      <td>规格:\\n尺寸：24'' x 68''。\\n\\n为什么我们热爱它:\\n我们的瑜伽垫拥有出色的...</td>\n",
       "    </tr>\n",
       "  </tbody>\n",
       "</table>\n",
       "</div>"
      ],
      "text/plain": [
       "  product_name                                        description\n",
       "0       全自动咖啡机  规格:\\n大型 - 尺寸：13.8'' x 17.3''。\\n中型 - 尺寸：11.5'' ...\n",
       "1         电动牙刷  规格:\\n一般大小 - 高度：9.5''，宽度：1''。\\n\\n为什么我们热爱它:\\n我们的...\n",
       "2    橙味维生素C泡腾片  规格:\\n每盒含有20片。\\n\\n为什么我们热爱它:\\n我们的橙味维生素C泡腾片是快速补充维...\n",
       "3       无线蓝牙耳机  规格:\\n单个耳机尺寸：1.5'' x 1.3''。\\n\\n为什么我们热爱它:\\n这款无线蓝...\n",
       "4          瑜伽垫  规格:\\n尺寸：24'' x 68''。\\n\\n为什么我们热爱它:\\n我们的瑜伽垫拥有出色的..."
      ]
     },
     "metadata": {},
     "output_type": "display_data"
    }
   ],
   "source": [
    "# 加载中文数据\n",
    "file = \"../data/product_data.csv\"\n",
    "loader = CSVLoader(file_path=file)\n",
    "data = loader.load()\n",
    "\n",
    "# 查看数据\n",
    "test_data = pd.read_csv(file, skiprows=0)\n",
    "display(test_data.shape)\n",
    "display(test_data.head())"
   ]
  },
  {
   "cell_type": "code",
   "execution_count": 53,
   "metadata": {},
   "outputs": [],
   "source": [
    "# 创建 Ollama 嵌入模型实例\n",
    "embeddings = OllamaEmbeddings(model=\"qwen2.5\")  # 或其他在 Ollama 中安装的模型名称\n",
    "# 将指定向量存储类,创建完成后，我们将从加载器中调用,通过文档记载器列表加载\n",
    "index = VectorstoreIndexCreator(vectorstore_cls=DocArrayInMemorySearch, embedding=embeddings,  # 添加 embedding 参数\n",
    ").from_loaders(\n",
    "    [loader]\n",
    ")\n",
    "\n",
    "# 通过指定语言模型、链类型、检索器和我们要打印的详细程度来创建检索QA链\n",
    "llm = ChatOllama(model=\"qwen2.5\", temperature=0.0)  # 使用ollama模型\n",
    "qa = RetrievalQA.from_chain_type(\n",
    "    llm=llm,\n",
    "    chain_type=\"stuff\",\n",
    "    retriever=index.vectorstore.as_retriever(),\n",
    "    verbose=True,\n",
    "    chain_type_kwargs={\"document_separator\": \"<<<<>>>>>\"},\n",
    ")"
   ]
  },
  {
   "cell_type": "code",
   "execution_count": 54,
   "metadata": {},
   "outputs": [
    {
     "data": {
      "text/plain": [
       "Document(metadata={'source': '../data/product_data.csv', 'row': 10}, page_content=\"product_name: 高清电视机\\ndescription: 规格:\\n尺寸：50''。\\n\\n为什么我们热爱它:\\n我们的高清电视机拥有出色的画质和强大的音效，带来沉浸式的观看体验。\\n\\n材质与护理:\\n使用干布清洁。\\n\\n构造:\\n由塑料、金属和电子元件制成。\\n\\n其他特性:\\n支持网络连接，可以在线观看视频。\\n配备遥控器。\\n在韩国制造。\\n\\n有问题？请随时联系我们的客户服务团队，他们会解答您的所有问题。\")"
      ]
     },
     "execution_count": 54,
     "metadata": {},
     "output_type": "execute_result"
    }
   ],
   "source": [
    "data[10]"
   ]
  },
  {
   "cell_type": "code",
   "execution_count": null,
   "metadata": {},
   "outputs": [
    {
     "data": {
      "text/plain": [
       "Document(metadata={'source': '../data/product_data.csv', 'row': 11}, page_content=\"product_name: 旅行背包\\ndescription: 规格:\\n尺寸：18'' x 12'' x 6''。\\n\\n为什么我们热爱它:\\n我们的旅行背包拥有多个实用的内外袋，轻松装下您的必需品，是短途旅行的理想选择。\\n\\n材质与护理:\\n可以手洗，自然晾干。\\n\\n构造:\\n由防水尼龙制成。\\n\\n其他特性:\\n附带可调节背带和安全锁。\\n在中国制造。\\n\\n有问题？请随时联系我们的客户服务团队，他们会解答您的所有问题。\")"
      ]
     },
     "execution_count": 55,
     "metadata": {},
     "output_type": "execute_result"
    }
   ],
   "source": [
    "data[11]"
   ]
  },
  {
   "cell_type": "code",
   "execution_count": 56,
   "metadata": {},
   "outputs": [
    {
     "name": "stdout",
     "output_type": "stream",
     "text": [
      "<class 'list'>\n",
      "{'query': '高清电视机怎么进行护理？', 'answer': '使用干布清洁。'}\n"
     ]
    }
   ],
   "source": [
    "examples = [\n",
    "    {\"query\": \"高清电视机怎么进行护理？\", \"answer\": \"使用干布清洁。\"},\n",
    "    {\"query\": \"旅行背包有内外袋吗？\", \"answer\": \"有。\"},\n",
    "]\n",
    "print(type(examples))\n",
    "print(examples[0])"
   ]
  },
  {
   "cell_type": "code",
   "execution_count": null,
   "metadata": {},
   "outputs": [],
   "source": []
  },
  {
   "cell_type": "code",
   "execution_count": 57,
   "metadata": {},
   "outputs": [
    {
     "data": {
      "text/plain": [
       "[{'qa_pairs': {'query': '这款全自动咖啡机有哪些尺寸选项？',\n",
       "   'answer': \"这款全自动咖啡机有两种尺寸选项：大型 - 尺寸为13.8'' x 17.3''；中型 - 尺寸为11.5'' x 15.2''。\"}},\n",
       " {'qa_pairs': {'query': '根据文档中的描述，这款电动牙刷有哪些清洁模式和功能？',\n",
       "   'answer': '文档中提到，这款电动牙刷具有多种清洁模式和其他特性，具体包括定时功能。'}},\n",
       " {'qa_pairs': {'query': '这款维生素C泡腾片每盒含有多少片？', 'answer': '每盒含有20片。'}},\n",
       " {'qa_pairs': {'query': '这款无线蓝牙耳机有哪些主要特点和规格？',\n",
       "   'answer': '这款无线蓝牙耳机的主要特点包括：配备了降噪技术、长达8小时的电池续航力、快速充电功能以及内置麦克风支持接听电话。其规格方面，单个耳机尺寸为1.5英寸 x 1.3英寸，并且由耐用的塑料和金属构成，配备有软质耳塞。此外，清洁时只需用湿布擦拭即可。这款产品是在韩国制造的。'}},\n",
       " {'qa_pairs': {'query': '这款瑜伽垫的尺寸是多少？', 'answer': '这款瑜伽垫的尺寸是24英寸 x 68英寸。'}}]"
      ]
     },
     "execution_count": 57,
     "metadata": {},
     "output_type": "execute_result"
    }
   ],
   "source": [
    "from langchain.evaluation.qa import (\n",
    "    QAGenerateChain,\n",
    ")  # 导入QA生成链，它将接收文档，并从每个文档中创建一个问题答案对\n",
    "\n",
    "# 下面是langchain.evaluation.qa.generate_prompt中的源码，在template的最后加上“请使用中文输出”\n",
    "from langchain.output_parsers.regex import RegexParser\n",
    "from langchain.prompts import PromptTemplate\n",
    "from langchain.base_language import BaseLanguageModel\n",
    "from typing import Any\n",
    "\n",
    "template = \"\"\"You are a teacher coming up with questions to ask on a quiz. \n",
    "Given the following document, please generate a question and answer based on that document.\n",
    "\n",
    "Example Format:\n",
    "<Begin Document>\n",
    "...\n",
    "<End Document>\n",
    "QUESTION: question here\n",
    "ANSWER: answer here\n",
    "\n",
    "These questions should be detailed and be based explicitly on information in the document. Begin!\n",
    "\n",
    "<Begin Document>\n",
    "{doc}\n",
    "<End Document>\n",
    "请使用中文输出\n",
    "\"\"\"\n",
    "output_parser = RegexParser(\n",
    "    regex=r\"QUESTION: (.*?)\\nANSWER: (.*)\", output_keys=[\"query\", \"answer\"]\n",
    ")\n",
    "PROMPT = PromptTemplate(\n",
    "    input_variables=[\"doc\"], template=template, output_parser=output_parser\n",
    ")\n",
    "\n",
    "\n",
    "# 继承QAGenerateChain\n",
    "class ChineseQAGenerateChain(QAGenerateChain):\n",
    "    \"\"\"LLM Chain specifically for generating examples for question answering.\"\"\"\n",
    "\n",
    "    @classmethod\n",
    "    def from_llm(cls, llm: BaseLanguageModel, **kwargs: Any) -> QAGenerateChain:\n",
    "        \"\"\"Load QA Generate Chain from LLM.\"\"\"\n",
    "        return cls(llm=llm, prompt=PROMPT, **kwargs)\n",
    "\n",
    "\n",
    "example_gen_chain = ChineseQAGenerateChain.from_llm(\n",
    "    ChatOllama(model=\"qwen2.5\", temperature=0.0)  # 使用ollama模型\n",
    ")  # 通过传递 ollama 语言模型来创建这个链\n",
    "new_examples = example_gen_chain.apply([{\"doc\": t} for t in data[:5]])\n",
    "\n",
    "# 查看用例数据\n",
    "new_examples"
   ]
  },
  {
   "cell_type": "code",
   "execution_count": 58,
   "metadata": {},
   "outputs": [
    {
     "name": "stdout",
     "output_type": "stream",
     "text": [
      "{'qa_pairs': {'query': '这款全自动咖啡机有哪些尺寸选项？', 'answer': \"这款全自动咖啡机有两种尺寸选项：大型 - 尺寸为13.8'' x 17.3''；中型 - 尺寸为11.5'' x 15.2''。\"}}\n",
      "\n",
      "\n",
      "page_content='product_name: 全自动咖啡机\n",
      "description: 规格:\n",
      "大型 - 尺寸：13.8'' x 17.3''。\n",
      "中型 - 尺寸：11.5'' x 15.2''。\n",
      "\n",
      "为什么我们热爱它:\n",
      "这款全自动咖啡机是爱好者的理想选择。 一键操作，即可研磨豆子并沏制出您喜爱的咖啡。它的耐用性和一致性使它成为家庭和办公室的理想选择。\n",
      "\n",
      "材质与护理:\n",
      "清洁时只需轻擦。\n",
      "\n",
      "构造:\n",
      "由高品质不锈钢制成。\n",
      "\n",
      "其他特性:\n",
      "内置研磨器和滤网。\n",
      "预设多种咖啡模式。\n",
      "在中国制造。\n",
      "\n",
      "有问题？ 请随时联系我们的客户服务团队，他们会解答您的所有问题。' metadata={'source': '../data/product_data.csv', 'row': 0}\n"
     ]
    }
   ],
   "source": [
    "print(new_examples[0])\n",
    "print(\"\\n\")\n",
    "print(data[0])"
   ]
  },
  {
   "cell_type": "code",
   "execution_count": 59,
   "metadata": {},
   "outputs": [
    {
     "name": "stdout",
     "output_type": "stream",
     "text": [
      "\n",
      "\n",
      "\u001b[1m> Entering new RetrievalQA chain...\u001b[0m\n",
      "\n",
      "\u001b[1m> Finished chain.\u001b[0m\n"
     ]
    },
    {
     "data": {
      "text/plain": [
       "'您提到的产品并不是高清电视机，而是几个不同的家居用品：LED台灯、陶瓷保温杯、太阳能庭院灯和无线蓝牙耳机。根据提供的信息，这些产品并没有关于高清电视机的护理说明。\\n\\n如果您需要了解高清电视机的护理方法，请提供更具体的信息或描述，或者告诉我您想了解的是哪一款产品，这样我才能给出准确的回答。对于一般电子产品的清洁保养，通常建议使用柔软的干布轻轻擦拭屏幕和外壳，并避免使用含有酒精或其他化学溶剂的湿布，以防损坏设备。'"
      ]
     },
     "execution_count": 59,
     "metadata": {},
     "output_type": "execute_result"
    }
   ],
   "source": [
    "examples += [v for item in new_examples for k, v in item.items()]\n",
    "qa.run(examples[0][\"query\"])"
   ]
  },
  {
   "cell_type": "code",
   "execution_count": 60,
   "metadata": {},
   "outputs": [
    {
     "name": "stdout",
     "output_type": "stream",
     "text": [
      "\u001b[32;1m\u001b[1;3m[chain/start]\u001b[0m \u001b[1m[chain:RetrievalQA] Entering Chain run with input:\n",
      "\u001b[0m{\n",
      "  \"query\": \"高清电视机怎么进行护理？\"\n",
      "}\n",
      "\u001b[32;1m\u001b[1;3m[chain/start]\u001b[0m \u001b[1m[chain:RetrievalQA > chain:StuffDocumentsChain] Entering Chain run with input:\n",
      "\u001b[0m[inputs]\n",
      "\u001b[32;1m\u001b[1;3m[chain/start]\u001b[0m \u001b[1m[chain:RetrievalQA > chain:StuffDocumentsChain > chain:LLMChain] Entering Chain run with input:\n",
      "\u001b[0m{\n",
      "  \"question\": \"高清电视机怎么进行护理？\",\n",
      "  \"context\": \"product_name: LED台灯\\ndescription: 规格:\\n尺寸：6'' x 6'' x 18''。\\n\\n为什么我们热爱它:\\n我们的LED台灯亮度可调，采用节能LED灯珠，不仅可以提供明亮的光照，还可以节省能源。\\n\\n材质与护理:\\n使用湿布擦拭。\\n\\n构造:\\n由金属和塑料制成。\\n\\n其他特性:\\n具有触控开关和调光功能。\\n在中国制造。\\n\\n有问题？请随时联系我们的客户服务团队，他们会解答您的所有问题。<<<<>>>>>product_name: 陶瓷保温杯\\ndescription: 规格:\\n容量：350ml。\\n\\n为什么我们热爱它:\\n我们的陶瓷保温杯设计优雅，保温效果好，是办公室和户外活动的理想伴侣。\\n\\n材质与护理:\\n可以手洗或洗碗机清洗。\\n\\n构造:\\n由高品质陶瓷和不锈钢制成。\\n\\n其他特性:\\n有多种颜色可选。\\n在中国制造。\\n\\n有问题？请随时联系我们的客户服务团队，他们会解答您的所有问题。<<<<>>>>>product_name: 太阳能庭院灯\\ndescription: 规格:\\n高度：18''。\\n\\n为什么我们热爱它:\\n我们的太阳能庭院灯无需电源，只需将其放在阳光下即可充电。到了晚上，它会自动点亮，为您的庭院增添温馨的氛围。\\n\\n材质与护理:\\n可以用湿布清洁。\\n\\n构造:\\n由塑料和太阳能板制成。\\n\\n其他特性:\\n自动感应，日落后自动点亮。\\n在中国制造。\\n\\n有问题？请随时联系我们的客户服务团队，他们会解答您的所有问题。<<<<>>>>>product_name: 无线蓝牙耳机\\ndescription: 规格:\\n单个耳机尺寸：1.5'' x 1.3''。\\n\\n为什么我们热爱它:\\n这款无线蓝牙耳机配备了降噪技术和长达8小时的电池续航力，让您无论在哪里都可以享受无障碍的音乐体验。\\n\\n材质与护理:\\n只需用湿布清洁。\\n\\n构造:\\n由耐用的塑料和金属构成，配备有软质耳塞。\\n\\n其他特性:\\n快速充电功能。\\n内置麦克风，支持接听电话。\\n在韩国制造。\\n\\n有问题？请随时联系我们的客户服务团队，他们会解答您的所有问题。\"\n",
      "}\n",
      "\u001b[32;1m\u001b[1;3m[llm/start]\u001b[0m \u001b[1m[chain:RetrievalQA > chain:StuffDocumentsChain > chain:LLMChain > llm:ChatOllama] Entering LLM run with input:\n",
      "\u001b[0m{\n",
      "  \"prompts\": [\n",
      "    \"System: Use the following pieces of context to answer the user's question. \\nIf you don't know the answer, just say that you don't know, don't try to make up an answer.\\n----------------\\nproduct_name: LED台灯\\ndescription: 规格:\\n尺寸：6'' x 6'' x 18''。\\n\\n为什么我们热爱它:\\n我们的LED台灯亮度可调，采用节能LED灯珠，不仅可以提供明亮的光照，还可以节省能源。\\n\\n材质与护理:\\n使用湿布擦拭。\\n\\n构造:\\n由金属和塑料制成。\\n\\n其他特性:\\n具有触控开关和调光功能。\\n在中国制造。\\n\\n有问题？请随时联系我们的客户服务团队，他们会解答您的所有问题。<<<<>>>>>product_name: 陶瓷保温杯\\ndescription: 规格:\\n容量：350ml。\\n\\n为什么我们热爱它:\\n我们的陶瓷保温杯设计优雅，保温效果好，是办公室和户外活动的理想伴侣。\\n\\n材质与护理:\\n可以手洗或洗碗机清洗。\\n\\n构造:\\n由高品质陶瓷和不锈钢制成。\\n\\n其他特性:\\n有多种颜色可选。\\n在中国制造。\\n\\n有问题？请随时联系我们的客户服务团队，他们会解答您的所有问题。<<<<>>>>>product_name: 太阳能庭院灯\\ndescription: 规格:\\n高度：18''。\\n\\n为什么我们热爱它:\\n我们的太阳能庭院灯无需电源，只需将其放在阳光下即可充电。到了晚上，它会自动点亮，为您的庭院增添温馨的氛围。\\n\\n材质与护理:\\n可以用湿布清洁。\\n\\n构造:\\n由塑料和太阳能板制成。\\n\\n其他特性:\\n自动感应，日落后自动点亮。\\n在中国制造。\\n\\n有问题？请随时联系我们的客户服务团队，他们会解答您的所有问题。<<<<>>>>>product_name: 无线蓝牙耳机\\ndescription: 规格:\\n单个耳机尺寸：1.5'' x 1.3''。\\n\\n为什么我们热爱它:\\n这款无线蓝牙耳机配备了降噪技术和长达8小时的电池续航力，让您无论在哪里都可以享受无障碍的音乐体验。\\n\\n材质与护理:\\n只需用湿布清洁。\\n\\n构造:\\n由耐用的塑料和金属构成，配备有软质耳塞。\\n\\n其他特性:\\n快速充电功能。\\n内置麦克风，支持接听电话。\\n在韩国制造。\\n\\n有问题？请随时联系我们的客户服务团队，他们会解答您的所有问题。\\nHuman: 高清电视机怎么进行护理？\"\n",
      "  ]\n",
      "}\n",
      "\u001b[36;1m\u001b[1;3m[llm/end]\u001b[0m \u001b[1m[chain:RetrievalQA > chain:StuffDocumentsChain > chain:LLMChain > llm:ChatOllama] [2.62s] Exiting LLM run with output:\n",
      "\u001b[0m{\n",
      "  \"generations\": [\n",
      "    [\n",
      "      {\n",
      "        \"text\": \"您提到的产品并不是高清电视机，而是几个不同的家居用品：LED台灯、陶瓷保温杯、太阳能庭院灯和无线蓝牙耳机。根据提供的信息，这些产品并没有关于高清电视机的护理说明。\\n\\n如果您需要了解高清电视机的护理方法，请提供更具体的信息或描述，或者告诉我您想了解的是哪一款产品，这样我才能给出准确的回答。对于一般电子产品的清洁保养，通常建议使用柔软的干布轻轻擦拭屏幕和外壳，并避免使用含有酒精或其他化学溶剂的湿布，以防损坏设备。\",\n",
      "        \"generation_info\": {\n",
      "          \"model\": \"qwen2.5\",\n",
      "          \"created_at\": \"2025-02-26T07:29:33.87978Z\",\n",
      "          \"done\": true,\n",
      "          \"done_reason\": \"stop\",\n",
      "          \"total_duration\": 2614701209,\n",
      "          \"load_duration\": 8863667,\n",
      "          \"prompt_eval_count\": 493,\n",
      "          \"prompt_eval_duration\": 680000000,\n",
      "          \"eval_count\": 113,\n",
      "          \"eval_duration\": 1922000000,\n",
      "          \"message\": {\n",
      "            \"role\": \"assistant\",\n",
      "            \"content\": \"\",\n",
      "            \"images\": null,\n",
      "            \"tool_calls\": null\n",
      "          }\n",
      "        },\n",
      "        \"type\": \"ChatGeneration\",\n",
      "        \"message\": {\n",
      "          \"lc\": 1,\n",
      "          \"type\": \"constructor\",\n",
      "          \"id\": [\n",
      "            \"langchain\",\n",
      "            \"schema\",\n",
      "            \"messages\",\n",
      "            \"AIMessage\"\n",
      "          ],\n",
      "          \"kwargs\": {\n",
      "            \"content\": \"您提到的产品并不是高清电视机，而是几个不同的家居用品：LED台灯、陶瓷保温杯、太阳能庭院灯和无线蓝牙耳机。根据提供的信息，这些产品并没有关于高清电视机的护理说明。\\n\\n如果您需要了解高清电视机的护理方法，请提供更具体的信息或描述，或者告诉我您想了解的是哪一款产品，这样我才能给出准确的回答。对于一般电子产品的清洁保养，通常建议使用柔软的干布轻轻擦拭屏幕和外壳，并避免使用含有酒精或其他化学溶剂的湿布，以防损坏设备。\",\n",
      "            \"response_metadata\": {\n",
      "              \"model\": \"qwen2.5\",\n",
      "              \"created_at\": \"2025-02-26T07:29:33.87978Z\",\n",
      "              \"done\": true,\n",
      "              \"done_reason\": \"stop\",\n",
      "              \"total_duration\": 2614701209,\n",
      "              \"load_duration\": 8863667,\n",
      "              \"prompt_eval_count\": 493,\n",
      "              \"prompt_eval_duration\": 680000000,\n",
      "              \"eval_count\": 113,\n",
      "              \"eval_duration\": 1922000000,\n",
      "              \"message\": {\n",
      "                \"lc\": 1,\n",
      "                \"type\": \"not_implemented\",\n",
      "                \"id\": [\n",
      "                  \"ollama\",\n",
      "                  \"_types\",\n",
      "                  \"Message\"\n",
      "                ],\n",
      "                \"repr\": \"Message(role='assistant', content='', images=None, tool_calls=None)\"\n",
      "              }\n",
      "            },\n",
      "            \"type\": \"ai\",\n",
      "            \"id\": \"run-3834d3fd-5275-44d0-9a40-9005679f99c7-0\",\n",
      "            \"usage_metadata\": {\n",
      "              \"input_tokens\": 493,\n",
      "              \"output_tokens\": 113,\n",
      "              \"total_tokens\": 606\n",
      "            },\n",
      "            \"tool_calls\": [],\n",
      "            \"invalid_tool_calls\": []\n",
      "          }\n",
      "        }\n",
      "      }\n",
      "    ]\n",
      "  ],\n",
      "  \"llm_output\": null,\n",
      "  \"run\": null,\n",
      "  \"type\": \"LLMResult\"\n",
      "}\n",
      "\u001b[36;1m\u001b[1;3m[chain/end]\u001b[0m \u001b[1m[chain:RetrievalQA > chain:StuffDocumentsChain > chain:LLMChain] [2.62s] Exiting Chain run with output:\n",
      "\u001b[0m{\n",
      "  \"text\": \"您提到的产品并不是高清电视机，而是几个不同的家居用品：LED台灯、陶瓷保温杯、太阳能庭院灯和无线蓝牙耳机。根据提供的信息，这些产品并没有关于高清电视机的护理说明。\\n\\n如果您需要了解高清电视机的护理方法，请提供更具体的信息或描述，或者告诉我您想了解的是哪一款产品，这样我才能给出准确的回答。对于一般电子产品的清洁保养，通常建议使用柔软的干布轻轻擦拭屏幕和外壳，并避免使用含有酒精或其他化学溶剂的湿布，以防损坏设备。\"\n",
      "}\n",
      "\u001b[36;1m\u001b[1;3m[chain/end]\u001b[0m \u001b[1m[chain:RetrievalQA > chain:StuffDocumentsChain] [2.62s] Exiting Chain run with output:\n",
      "\u001b[0m{\n",
      "  \"output_text\": \"您提到的产品并不是高清电视机，而是几个不同的家居用品：LED台灯、陶瓷保温杯、太阳能庭院灯和无线蓝牙耳机。根据提供的信息，这些产品并没有关于高清电视机的护理说明。\\n\\n如果您需要了解高清电视机的护理方法，请提供更具体的信息或描述，或者告诉我您想了解的是哪一款产品，这样我才能给出准确的回答。对于一般电子产品的清洁保养，通常建议使用柔软的干布轻轻擦拭屏幕和外壳，并避免使用含有酒精或其他化学溶剂的湿布，以防损坏设备。\"\n",
      "}\n",
      "\u001b[36;1m\u001b[1;3m[chain/end]\u001b[0m \u001b[1m[chain:RetrievalQA] [2.87s] Exiting Chain run with output:\n",
      "\u001b[0m{\n",
      "  \"result\": \"您提到的产品并不是高清电视机，而是几个不同的家居用品：LED台灯、陶瓷保温杯、太阳能庭院灯和无线蓝牙耳机。根据提供的信息，这些产品并没有关于高清电视机的护理说明。\\n\\n如果您需要了解高清电视机的护理方法，请提供更具体的信息或描述，或者告诉我您想了解的是哪一款产品，这样我才能给出准确的回答。对于一般电子产品的清洁保养，通常建议使用柔软的干布轻轻擦拭屏幕和外壳，并避免使用含有酒精或其他化学溶剂的湿布，以防损坏设备。\"\n",
      "}\n"
     ]
    },
    {
     "data": {
      "text/plain": [
       "'您提到的产品并不是高清电视机，而是几个不同的家居用品：LED台灯、陶瓷保温杯、太阳能庭院灯和无线蓝牙耳机。根据提供的信息，这些产品并没有关于高清电视机的护理说明。\\n\\n如果您需要了解高清电视机的护理方法，请提供更具体的信息或描述，或者告诉我您想了解的是哪一款产品，这样我才能给出准确的回答。对于一般电子产品的清洁保养，通常建议使用柔软的干布轻轻擦拭屏幕和外壳，并避免使用含有酒精或其他化学溶剂的湿布，以防损坏设备。'"
      ]
     },
     "execution_count": 60,
     "metadata": {},
     "output_type": "execute_result"
    }
   ],
   "source": [
    "import langchain\n",
    "\n",
    "langchain.debug = True\n",
    "\n",
    "# 重新运行与上面相同的示例，可以看到它开始打印出更多的信息\n",
    "qa.run(examples[0][\"query\"])"
   ]
  },
  {
   "cell_type": "code",
   "execution_count": 63,
   "metadata": {},
   "outputs": [
    {
     "name": "stderr",
     "output_type": "stream",
     "text": [
      "/var/folders/hm/wyn_k9d108zfv2y674p1hv_r0000gn/T/ipykernel_83099/503304491.py:4: LangChainDeprecationWarning: The method `Chain.apply` was deprecated in langchain 0.1.0 and will be removed in 1.0. Use :meth:`~batch` instead.\n",
      "  predictions = qa.apply(examples)\n"
     ]
    },
    {
     "name": "stdout",
     "output_type": "stream",
     "text": [
      "\n",
      "\n",
      "\u001b[1m> Entering new RetrievalQA chain...\u001b[0m\n",
      "\n",
      "\u001b[1m> Finished chain.\u001b[0m\n",
      "\n",
      "\n",
      "\u001b[1m> Entering new RetrievalQA chain...\u001b[0m\n",
      "\n",
      "\u001b[1m> Finished chain.\u001b[0m\n",
      "\n",
      "\n",
      "\u001b[1m> Entering new RetrievalQA chain...\u001b[0m\n",
      "\n",
      "\u001b[1m> Finished chain.\u001b[0m\n",
      "\n",
      "\n",
      "\u001b[1m> Entering new RetrievalQA chain...\u001b[0m\n",
      "\n",
      "\u001b[1m> Finished chain.\u001b[0m\n",
      "\n",
      "\n",
      "\u001b[1m> Entering new RetrievalQA chain...\u001b[0m\n",
      "\n",
      "\u001b[1m> Finished chain.\u001b[0m\n",
      "\n",
      "\n",
      "\u001b[1m> Entering new RetrievalQA chain...\u001b[0m\n",
      "\n",
      "\u001b[1m> Finished chain.\u001b[0m\n",
      "\n",
      "\n",
      "\u001b[1m> Entering new RetrievalQA chain...\u001b[0m\n",
      "\n",
      "\u001b[1m> Finished chain.\u001b[0m\n"
     ]
    }
   ],
   "source": [
    "langchain.debug = False\n",
    "\n",
    "# 为所有不同的示例创建预测\n",
    "predictions = qa.apply(examples)\n",
    "\n",
    "# 对预测的结果进行评估，导入QA问题回答，评估链，通过语言模型创建此链\n",
    "from langchain.evaluation.qa import QAEvalChain  # 导入QA问题回答，评估链\n",
    "\n",
    "# 通过使用ollama模型进行评估\n",
    "llm = ChatOllama(model=\"qwen2.5\", temperature=0.0)\n",
    "eval_chain = QAEvalChain.from_llm(llm)\n",
    "\n",
    "# 在此链上调用evaluate，进行评估\n",
    "graded_outputs = eval_chain.evaluate(examples, predictions)"
   ]
  },
  {
   "cell_type": "code",
   "execution_count": 67,
   "metadata": {},
   "outputs": [
    {
     "name": "stdout",
     "output_type": "stream",
     "text": [
      "Example 0:\n",
      "Question: 高清电视机怎么进行护理？\n",
      "Real Answer: 使用干布清洁。\n",
      "Predicted Answer: 您提到的产品并不是高清电视机，而是几个不同的家居用品：LED台灯、陶瓷保温杯、太阳能庭院灯和无线蓝牙耳机。根据提供的信息，这些产品并没有关于高清电视机的护理说明。\n",
      "\n",
      "如果您需要了解高清电视机的护理方法，请提供更具体的信息或描述，或者告诉我您想了解的是哪一款产品，这样我才能给出准确的回答。对于一般电子产品的清洁保养，通常建议使用柔软的干布轻轻擦拭屏幕和外壳，并避免使用含有酒精或其他化学溶剂的湿布，以防损坏设备。\n",
      "Predicted Grade: GRADE: INCORRECT\n",
      "\n",
      "解释：学生答案中提供了关于高清电视机护理的一般性建议，但没有直接回答如何进行护理。正确的答案是“使用干布清洁”，因此学生的回答与正确答案不符。不过，考虑到学生提供了一些相关的信息，并且没有包含错误信息，可以认为学生部分理解了问题的核心，但由于未能准确给出真确的答案，所以判定为错误。\n",
      "\n",
      "Example 1:\n",
      "Question: 旅行背包有内外袋吗？\n",
      "Real Answer: 有。\n",
      "Predicted Answer: 是的，旅行背包拥有多个实用的内外袋，这使得您可以轻松装下必需品。\n",
      "Predicted Grade: GRADE: CORRECT\n",
      "\n",
      "虽然学生的回答比正确答案多了关于旅行背包内部和外部都有袋子的信息，并且使用了更多的词汇来表达，但这些额外信息并没有与正确答案相矛盾。因此，可以认为学生答案是正确的。\n",
      "\n",
      "Example 2:\n",
      "Question: 这款全自动咖啡机有哪些尺寸选项？\n",
      "Real Answer: 这款全自动咖啡机有两种尺寸选项：大型 - 尺寸为13.8'' x 17.3''；中型 - 尺寸为11.5'' x 15.2''。\n",
      "Predicted Answer: 这款自动咖啡机的尺寸是12'' x 8'' x 14''。\n",
      "Predicted Grade: GRADE: INCORRECT\n",
      "\n",
      "解释：学生答案只提供了单一的尺寸信息，并且与真实答案中的两种尺寸选项不符。因此，该答案在事实准确性上是错误的。\n",
      "\n",
      "Example 3:\n",
      "Question: 根据文档中的描述，这款电动牙刷有哪些清洁模式和功能？\n",
      "Real Answer: 文档中提到，这款电动牙刷具有多种清洁模式和其他特性，具体包括定时功能。\n",
      "Predicted Answer: 根据文档中的描述，这款电动牙刷具有多种清洁模式以及定时功能。\n",
      "Predicted Grade: CORRECT\n",
      "\n",
      "解释：学生的答案准确地反映了文档中的信息，即该电动牙刷具有多种清洁模式和定时功能。虽然学生没有直接使用“其他特性”这个词，但这并不影响答案的准确性。因此，可以判定为正确。\n",
      "\n",
      "Example 4:\n",
      "Question: 这款维生素C泡腾片每盒含有多少片？\n",
      "Real Answer: 每盒含有20片。\n",
      "Predicted Answer: 这款橙味维生素C泡腾片每盒含有20片。\n",
      "Predicted Grade: GRADE: CORRECT\n",
      "\n",
      "解析：学生的回答“这款橙味维生素C泡腾片每盒含有20片”与真实答案“每盒含有20片”的核心信息一致，即每盒含有的片数是20片。虽然学生答案中包含了额外的信息（即“橙味”），但并未影响对问题核心事实的准确回答。因此，可以判定为正确。\n",
      "\n",
      "Example 5:\n",
      "Question: 这款无线蓝牙耳机有哪些主要特点和规格？\n",
      "Real Answer: 这款无线蓝牙耳机的主要特点包括：配备了降噪技术、长达8小时的电池续航力、快速充电功能以及内置麦克风支持接听电话。其规格方面，单个耳机尺寸为1.5英寸 x 1.3英寸，并且由耐用的塑料和金属构成，配备有软质耳塞。此外，清洁时只需用湿布擦拭即可。这款产品是在韩国制造的。\n",
      "Predicted Answer: 这款无线蓝牙耳机的主要特点和规格包括：\n",
      "\n",
      "- 单个耳机尺寸：1.5'' x 1.3''\n",
      "- 配备降噪技术\n",
      "- 电池续航力长达8小时\n",
      "- 快速充电功能\n",
      "- 内置麦克风，支持接听电话\n",
      "- 在韩国制造\n",
      "\n",
      "这些特性使得这款无线蓝牙耳机无论在任何地方都能提供无障碍的音乐体验。\n",
      "Predicted Grade: GRADE: CORRECT\n",
      "\n",
      "解析：学生的答案在主要特点上与真实答案一致，包括了降噪技术、电池续航力长达8小时、快速充电功能以及内置麦克风支持接听电话等信息。虽然学生没有提到耳机的具体尺寸单位（英寸）和材质构成，但这些细节不影响对主要特性的准确描述。因此可以判定为正确。\n",
      "\n",
      "Example 6:\n",
      "Question: 这款瑜伽垫的尺寸是多少？\n",
      "Real Answer: 这款瑜伽垫的尺寸是24英寸 x 68英寸。\n",
      "Predicted Answer: 这款瑜伽垫的尺寸是24'' x 68''。\n",
      "Predicted Grade: GRADE: CORRECT\n",
      "\n",
      "解析：学生的答案“这款瑜伽垫的尺寸是24'' x 68''”与标准答案“这款瑜伽垫的尺寸是24英寸 x 68英寸”在事实信息上是一致的，只是单位符号的表示方式略有不同（使用了双引号 '' 而不是 英文单词 inches），但不影响其准确性。因此可以判定为正确。\n",
      "\n"
     ]
    }
   ],
   "source": [
    "# 我们将传入示例和预测，得到一堆分级输出，循环遍历它们打印答案\n",
    "for i, eg in enumerate(examples):\n",
    "    print(f\"Example {i}:\")\n",
    "    print(\"Question: \" + predictions[i][\"query\"])\n",
    "    print(\"Real Answer: \" + examples[i][\"answer\"])\n",
    "    print(\"Predicted Answer: \" + predictions[i][\"result\"])\n",
    "    print(\"Predicted Grade: \" + graded_outputs[i][\"results\"])\n",
    "    print()"
   ]
  },
  {
   "cell_type": "code",
   "execution_count": null,
   "metadata": {},
   "outputs": [],
   "source": []
  },
  {
   "cell_type": "code",
   "execution_count": null,
   "metadata": {},
   "outputs": [],
   "source": []
  },
  {
   "cell_type": "code",
   "execution_count": null,
   "metadata": {},
   "outputs": [],
   "source": []
  },
  {
   "cell_type": "code",
   "execution_count": null,
   "metadata": {},
   "outputs": [],
   "source": []
  },
  {
   "cell_type": "code",
   "execution_count": null,
   "metadata": {},
   "outputs": [],
   "source": []
  },
  {
   "cell_type": "code",
   "execution_count": null,
   "metadata": {},
   "outputs": [],
   "source": []
  },
  {
   "cell_type": "code",
   "execution_count": null,
   "metadata": {},
   "outputs": [],
   "source": []
  },
  {
   "cell_type": "code",
   "execution_count": null,
   "metadata": {},
   "outputs": [],
   "source": []
  },
  {
   "cell_type": "code",
   "execution_count": null,
   "metadata": {},
   "outputs": [],
   "source": []
  },
  {
   "cell_type": "code",
   "execution_count": null,
   "metadata": {},
   "outputs": [],
   "source": []
  },
  {
   "cell_type": "code",
   "execution_count": null,
   "metadata": {},
   "outputs": [],
   "source": []
  },
  {
   "cell_type": "code",
   "execution_count": null,
   "metadata": {},
   "outputs": [],
   "source": []
  },
  {
   "cell_type": "code",
   "execution_count": null,
   "metadata": {},
   "outputs": [],
   "source": []
  },
  {
   "cell_type": "code",
   "execution_count": null,
   "metadata": {},
   "outputs": [],
   "source": []
  },
  {
   "cell_type": "code",
   "execution_count": null,
   "metadata": {},
   "outputs": [],
   "source": []
  },
  {
   "cell_type": "code",
   "execution_count": null,
   "metadata": {},
   "outputs": [],
   "source": []
  },
  {
   "cell_type": "code",
   "execution_count": null,
   "metadata": {},
   "outputs": [],
   "source": []
  }
 ],
 "metadata": {
  "kernelspec": {
   "display_name": "llm_env",
   "language": "python",
   "name": "python3"
  },
  "language_info": {
   "codemirror_mode": {
    "name": "ipython",
    "version": 3
   },
   "file_extension": ".py",
   "mimetype": "text/x-python",
   "name": "python",
   "nbconvert_exporter": "python",
   "pygments_lexer": "ipython3",
   "version": "3.10.16"
  }
 },
 "nbformat": 4,
 "nbformat_minor": 2
}
