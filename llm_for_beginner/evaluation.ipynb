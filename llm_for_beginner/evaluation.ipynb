{
 "cells": [
  {
   "cell_type": "code",
   "execution_count": 18,
   "metadata": {},
   "outputs": [],
   "source": [
    "from IPython.display import display, Markdown  # 在jupyter显示信息的工具\n",
    "\n",
    "from langchain.chains import RetrievalQA #检索QA链，在文档上进行检索\n",
    "# from langchain.chat_models import ChatOpenAI #openai模型\n",
    "from langchain.document_loaders import CSVLoader #文档加载器，采用csv格式存储\n",
    "from langchain.indexes import VectorstoreIndexCreator #导入向量存储索引创建器\n",
    "from langchain.vectorstores import DocArrayInMemorySearch #向量存储\n",
    "from langchain_ollama import ChatOllama\n",
    "from langchain_ollama import OllamaEmbeddings  # ollama嵌入\n",
    "\n",
    "import pandas as pd"
   ]
  },
  {
   "cell_type": "code",
   "execution_count": 17,
   "metadata": {},
   "outputs": [
    {
     "data": {
      "text/plain": [
       "(25, 2)"
      ]
     },
     "metadata": {},
     "output_type": "display_data"
    },
    {
     "data": {
      "text/html": [
       "<div>\n",
       "<style scoped>\n",
       "    .dataframe tbody tr th:only-of-type {\n",
       "        vertical-align: middle;\n",
       "    }\n",
       "\n",
       "    .dataframe tbody tr th {\n",
       "        vertical-align: top;\n",
       "    }\n",
       "\n",
       "    .dataframe thead th {\n",
       "        text-align: right;\n",
       "    }\n",
       "</style>\n",
       "<table border=\"1\" class=\"dataframe\">\n",
       "  <thead>\n",
       "    <tr style=\"text-align: right;\">\n",
       "      <th></th>\n",
       "      <th>product_name</th>\n",
       "      <th>description</th>\n",
       "    </tr>\n",
       "  </thead>\n",
       "  <tbody>\n",
       "    <tr>\n",
       "      <th>0</th>\n",
       "      <td>全自动咖啡机</td>\n",
       "      <td>规格:\\n大型 - 尺寸：13.8'' x 17.3''。\\n中型 - 尺寸：11.5'' ...</td>\n",
       "    </tr>\n",
       "    <tr>\n",
       "      <th>1</th>\n",
       "      <td>电动牙刷</td>\n",
       "      <td>规格:\\n一般大小 - 高度：9.5''，宽度：1''。\\n\\n为什么我们热爱它:\\n我们的...</td>\n",
       "    </tr>\n",
       "    <tr>\n",
       "      <th>2</th>\n",
       "      <td>橙味维生素C泡腾片</td>\n",
       "      <td>规格:\\n每盒含有20片。\\n\\n为什么我们热爱它:\\n我们的橙味维生素C泡腾片是快速补充维...</td>\n",
       "    </tr>\n",
       "    <tr>\n",
       "      <th>3</th>\n",
       "      <td>无线蓝牙耳机</td>\n",
       "      <td>规格:\\n单个耳机尺寸：1.5'' x 1.3''。\\n\\n为什么我们热爱它:\\n这款无线蓝...</td>\n",
       "    </tr>\n",
       "    <tr>\n",
       "      <th>4</th>\n",
       "      <td>瑜伽垫</td>\n",
       "      <td>规格:\\n尺寸：24'' x 68''。\\n\\n为什么我们热爱它:\\n我们的瑜伽垫拥有出色的...</td>\n",
       "    </tr>\n",
       "  </tbody>\n",
       "</table>\n",
       "</div>"
      ],
      "text/plain": [
       "  product_name                                        description\n",
       "0       全自动咖啡机  规格:\\n大型 - 尺寸：13.8'' x 17.3''。\\n中型 - 尺寸：11.5'' ...\n",
       "1         电动牙刷  规格:\\n一般大小 - 高度：9.5''，宽度：1''。\\n\\n为什么我们热爱它:\\n我们的...\n",
       "2    橙味维生素C泡腾片  规格:\\n每盒含有20片。\\n\\n为什么我们热爱它:\\n我们的橙味维生素C泡腾片是快速补充维...\n",
       "3       无线蓝牙耳机  规格:\\n单个耳机尺寸：1.5'' x 1.3''。\\n\\n为什么我们热爱它:\\n这款无线蓝...\n",
       "4          瑜伽垫  规格:\\n尺寸：24'' x 68''。\\n\\n为什么我们热爱它:\\n我们的瑜伽垫拥有出色的..."
      ]
     },
     "metadata": {},
     "output_type": "display_data"
    }
   ],
   "source": [
    "# 加载中文数据\n",
    "file = \"../data/product_data.csv\"\n",
    "loader = CSVLoader(file_path=file)\n",
    "data = loader.load()\n",
    "\n",
    "# 查看数据\n",
    "test_data = pd.read_csv(file, skiprows=0)\n",
    "display(test_data.shape)\n",
    "display(test_data.head())"
   ]
  },
  {
   "cell_type": "code",
   "execution_count": 13,
   "metadata": {},
   "outputs": [
    {
     "name": "stderr",
     "output_type": "stream",
     "text": [
      "/opt/anaconda3/envs/llm_env/lib/python3.10/site-packages/pydantic/_migration.py:283: UserWarning: `pydantic.error_wrappers:ValidationError` has been moved to `pydantic:ValidationError`.\n",
      "  warnings.warn(f'`{import_path}` has been moved to `{new_location}`.')\n"
     ]
    }
   ],
   "source": [
    "# 创建 Ollama 嵌入模型实例\n",
    "embeddings = OllamaEmbeddings(model=\"qwen2.5\")  # 或其他在 Ollama 中安装的模型名称\n",
    "# 将指定向量存储类,创建完成后，我们将从加载器中调用,通过文档记载器列表加载\n",
    "index = VectorstoreIndexCreator(vectorstore_cls=DocArrayInMemorySearch, embedding=embeddings,  # 添加 embedding 参数\n",
    ").from_loaders(\n",
    "    [loader]\n",
    ")\n",
    "\n",
    "# 通过指定语言模型、链类型、检索器和我们要打印的详细程度来创建检索QA链\n",
    "llm = ChatOllama(model=\"qwen2.5\", temperature=0.0)  # 使用ollama模型\n",
    "qa = RetrievalQA.from_chain_type(\n",
    "    llm=llm,\n",
    "    chain_type=\"stuff\",\n",
    "    retriever=index.vectorstore.as_retriever(),\n",
    "    verbose=True,\n",
    "    chain_type_kwargs={\"document_separator\": \"<<<<>>>>>\"},\n",
    ")"
   ]
  },
  {
   "cell_type": "code",
   "execution_count": null,
   "metadata": {},
   "outputs": [],
   "source": []
  },
  {
   "cell_type": "code",
   "execution_count": null,
   "metadata": {},
   "outputs": [],
   "source": []
  },
  {
   "cell_type": "code",
   "execution_count": null,
   "metadata": {},
   "outputs": [],
   "source": []
  },
  {
   "cell_type": "code",
   "execution_count": null,
   "metadata": {},
   "outputs": [],
   "source": []
  },
  {
   "cell_type": "code",
   "execution_count": null,
   "metadata": {},
   "outputs": [],
   "source": []
  },
  {
   "cell_type": "code",
   "execution_count": null,
   "metadata": {},
   "outputs": [],
   "source": []
  }
 ],
 "metadata": {
  "kernelspec": {
   "display_name": "llm_env",
   "language": "python",
   "name": "python3"
  },
  "language_info": {
   "codemirror_mode": {
    "name": "ipython",
    "version": 3
   },
   "file_extension": ".py",
   "mimetype": "text/x-python",
   "name": "python",
   "nbconvert_exporter": "python",
   "pygments_lexer": "ipython3",
   "version": "3.10.16"
  }
 },
 "nbformat": 4,
 "nbformat_minor": 2
}
