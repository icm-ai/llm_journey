{
 "cells": [
  {
   "cell_type": "code",
   "execution_count": null,
   "metadata": {},
   "outputs": [],
   "source": []
  },
  {
   "cell_type": "code",
   "execution_count": null,
   "metadata": {},
   "outputs": [],
   "source": []
  },
  {
   "cell_type": "code",
   "execution_count": null,
   "metadata": {},
   "outputs": [],
   "source": []
  },
  {
   "cell_type": "code",
   "execution_count": null,
   "metadata": {},
   "outputs": [],
   "source": []
  },
  {
   "cell_type": "code",
   "execution_count": 1,
   "metadata": {},
   "outputs": [],
   "source": [
    "from IPython.display import display, Markdown"
   ]
  },
  {
   "cell_type": "code",
   "execution_count": 3,
   "metadata": {},
   "outputs": [],
   "source": [
    "'''\n",
    "Author: MingChen\n",
    "Date: 2025-02-26 19:57:30\n",
    "LastEditors: MingChen\n",
    "LastEditTime: 2025-02-26 19:59:40\n",
    "'''\n",
    "from langchain.document_loaders import PyPDFLoader\n",
    "\n",
    "# 创建一个 PyPDFLoader Class 实例，输入为待加载的pdf文档路径\n",
    "loader = PyPDFLoader(\"../docs/matplotlib/第一回：Matplotlib初相识.pdf\")\n",
    "\n",
    "# 调用 PyPDFLoader Class 的函数 load对pdf文件进行加载\n",
    "pages = loader.load()\n"
   ]
  },
  {
   "cell_type": "code",
   "execution_count": 12,
   "metadata": {},
   "outputs": [
    {
     "name": "stdout",
     "output_type": "stream",
     "text": [
      "3\n",
      "<class 'langchain_core.documents.base.Document'>\n"
     ]
    }
   ],
   "source": [
    "print(len(pages))  # 输出pdf文件的页数\n",
    "page = pages[0]\n",
    "print(type(page))"
   ]
  },
  {
   "cell_type": "code",
   "execution_count": 13,
   "metadata": {},
   "outputs": [
    {
     "name": "stdout",
     "output_type": "stream",
     "text": [
      "第⼀回： Matplotlib 初相识\n",
      "⼀、认识 matplotlib\n",
      "Matplotlib 是⼀个 Python 2D 绘图库，能够以多种硬拷⻉格式和跨平台的交互式环境⽣成出版物质量的图形，⽤来绘制各种静态，动态，\n",
      "交互式的图表。\n",
      "Matplotlib 可⽤于 Python 脚本， Python 和 IPython Shell 、 Jupyter notebook ， Web 应⽤程序服务器和各种图形⽤户界⾯⼯具包等。\n",
      "Matplotlib 是 Python 数据可视化库中的泰⽃，它已经成为 python 中公认的数据可视化⼯具，我们所熟知的 pandas 和 seaborn 的绘图接⼝\n",
      "其实也是基于 matplotlib 所作的⾼级封装。\n",
      "为了对 matplotlib 有更好的理解，让我们从⼀些最基本的概念开始认识它，再逐渐过渡到⼀些⾼级技巧中。\n",
      "⼆、⼀个最简单的绘图例⼦\n",
      "Matplotlib 的图像是画在 figure （如 windows ， jupyter 窗体）上的，每⼀个 figure ⼜包含了⼀个或多个 axes （⼀个可以指定坐标系的⼦区\n",
      "域）。最简单的创建 figu\n"
     ]
    }
   ],
   "source": [
    "print(page.page_content[0:500])"
   ]
  },
  {
   "cell_type": "code",
   "execution_count": 14,
   "metadata": {},
   "outputs": [
    {
     "name": "stdout",
     "output_type": "stream",
     "text": [
      "{'producer': 'Skia/PDF m114', 'creator': 'Mozilla/5.0 (Macintosh; Intel Mac OS X 10_15_7) AppleWebKit/537.36 (KHTML, like Gecko) Chrome/114.0.0.0 Safari/537.36', 'creationdate': '2023-07-11T13:55:29+00:00', 'moddate': '2023-07-12T10:54:28+08:00', 'source': '../docs/matplotlib/第一回：Matplotlib初相识.pdf', 'total_pages': 3, 'page': 0, 'page_label': '1'}\n"
     ]
    }
   ],
   "source": [
    "print(page.metadata)"
   ]
  },
  {
   "cell_type": "code",
   "execution_count": null,
   "metadata": {},
   "outputs": [],
   "source": [
    "from langchain.document_loaders.generic import GenericLoader\n",
    "from langchain.document_loaders.blob_loaders.youtube_audio import YoutubeAudioLoader\n",
    "\n",
    "url = \"https://www.youtube.com/watch?v=_PHdzsQaDgw\"\n",
    "save_dir = \"docs/youtube-zh/\"\n",
    "\n",
    "# 创建一个 GenericLoader Class 实例\n",
    "loader = GenericLoader(\n",
    "    # 将链接url中的Youtube视频的音频下载下来,存在本地路径save_dir\n",
    "    YoutubeAudioLoader([url], save_dir),\n",
    "    # 使用OpenAIWhisperPaser解析器将音频转化为文本\n",
    "    OpenAIWhisperParser(),\n",
    ")\n",
    "\n",
    "# 调用 GenericLoader Class 的函数 load对视频的音频文件进行加载\n",
    "pages = loader.load()"
   ]
  },
  {
   "cell_type": "code",
   "execution_count": null,
   "metadata": {},
   "outputs": [],
   "source": []
  },
  {
   "cell_type": "code",
   "execution_count": null,
   "metadata": {},
   "outputs": [],
   "source": []
  },
  {
   "cell_type": "code",
   "execution_count": null,
   "metadata": {},
   "outputs": [],
   "source": []
  }
 ],
 "metadata": {
  "kernelspec": {
   "display_name": "llm_env",
   "language": "python",
   "name": "python3"
  },
  "language_info": {
   "codemirror_mode": {
    "name": "ipython",
    "version": 3
   },
   "file_extension": ".py",
   "mimetype": "text/x-python",
   "name": "python",
   "nbconvert_exporter": "python",
   "pygments_lexer": "ipython3",
   "version": "3.10.16"
  }
 },
 "nbformat": 4,
 "nbformat_minor": 2
}
