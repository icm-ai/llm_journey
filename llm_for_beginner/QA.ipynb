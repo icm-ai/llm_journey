{
 "cells": [
  {
   "cell_type": "code",
   "execution_count": null,
   "metadata": {},
   "outputs": [],
   "source": [
    "from IPython.display import display, Markdown\n",
    "from langchain_ollama import ChatOllama\n",
    "from langchain_ollama import OllamaEmbeddings  # ollama嵌入\n",
    "\n",
    "embedding = OllamaEmbeddings(model=\"qwen2.5\")\n",
    "llm = ChatOllama(\n",
    "    model=\"qwen2.5\",\n",
    "    temperature=0.0,\n",
    "    max_tokens=100,\n",
    "    top_p=0.9,\n",
    "    top_k=50,\n",
    "    repetition_penalty=1.0,\n",
    ")"
   ]
  },
  {
   "cell_type": "code",
   "execution_count": 6,
   "metadata": {},
   "outputs": [],
   "source": [
    "from langchain_ollama import ChatOllama\n",
    "from langchain_ollama import OllamaEmbeddings  # ollama嵌入\n",
    "\n",
    "embedding = OllamaEmbeddings(model=\"qwen2.5\")\n",
    "llm = ChatOllama(model=\"qwen2.5\", temperature=0.0, max_tokens=100, top_p=0.9, top_k=50, repetition_penalty=1.0)\n",
    "\n",
    "\n",
    "def pretty_print_docs(docs):\n",
    "    print(\n",
    "        f\"\\n{'-' * 100}\\n\".join(\n",
    "            [f\"Document {i+1}:\\n\\n\" + d.page_content for i, d in enumerate(docs)]\n",
    "        )\n",
    "    )"
   ]
  },
  {
   "cell_type": "code",
   "execution_count": 2,
   "metadata": {},
   "outputs": [
    {
     "name": "stderr",
     "output_type": "stream",
     "text": [
      "/var/folders/hm/wyn_k9d108zfv2y674p1hv_r0000gn/T/ipykernel_62201/329282471.py:4: LangChainDeprecationWarning: The class `Chroma` was deprecated in LangChain 0.2.9 and will be removed in 1.0. An updated version of the class exists in the :class:`~langchain-chroma package and should be used instead. To use it run `pip install -U :class:`~langchain-chroma` and import as `from :class:`~langchain_chroma import Chroma``.\n",
      "  vectordb = Chroma(persist_directory=persist_directory, embedding_function=embedding)\n"
     ]
    },
    {
     "name": "stdout",
     "output_type": "stream",
     "text": [
      "27\n"
     ]
    }
   ],
   "source": [
    "from langchain.vectorstores import Chroma\n",
    "\n",
    "persist_directory = \"../docs/chroma/matplotlib/\"\n",
    "vectordb = Chroma(persist_directory=persist_directory, embedding_function=embedding)\n",
    "\n",
    "print(vectordb._collection.count())"
   ]
  },
  {
   "cell_type": "code",
   "execution_count": null,
   "metadata": {},
   "outputs": [
    {
     "data": {
      "text/plain": [
       "3"
      ]
     },
     "execution_count": 3,
     "metadata": {},
     "output_type": "execute_result"
    }
   ],
   "source": [
    "question = \"这节课的主要话题是什么\"\n",
    "docs = vectordb.similarity_search(question, k=3)\n",
    "len(docs)\n",
    "pretty_print_docs(docs)"
   ]
  },
  {
   "cell_type": "code",
   "execution_count": null,
   "metadata": {},
   "outputs": [],
   "source": []
  },
  {
   "cell_type": "code",
   "execution_count": 9,
   "metadata": {},
   "outputs": [
    {
     "name": "stderr",
     "output_type": "stream",
     "text": [
      "/var/folders/hm/wyn_k9d108zfv2y674p1hv_r0000gn/T/ipykernel_62201/2518845439.py:9: LangChainDeprecationWarning: The method `Chain.__call__` was deprecated in langchain 0.1.0 and will be removed in 1.0. Use :meth:`~invoke` instead.\n",
      "  result = qa_chain({\"query\": question})\n"
     ]
    },
    {
     "name": "stdout",
     "output_type": "stream",
     "text": [
      "这节课的主要话题是关于Matplotlib的使用，包括如何绘制图表、设置坐标轴类型（如对数坐标）、创建子图以及数据可视化的一些基本概念。具体来说，内容涉及以下几个方面：\n",
      "\n",
      "1. 使用`plt.subplots()`创建图形和子图。\n",
      "2. 设置坐标轴的尺度，例如使用`set_xscale('log')`来设置对数坐标。\n",
      "3. 如何加载并绘制数据集中的信息（以一个假设的数据集为例）。\n",
      "4. 对比面向对象（OO）模式与Pyplot模式两种绘图方式，并提供了一个通用的绘图模板。\n",
      "\n",
      "此外，还介绍了Matplotlib中的一些基本概念，如Figure、Axes等容器及其属性和方法。这些内容为理解和使用Matplotlib进行数据可视化打下了基础。\n"
     ]
    }
   ],
   "source": [
    "# 导入检索式问答链\n",
    "from langchain.chains import RetrievalQA\n",
    "\n",
    "# 声明一个检索式问答链\n",
    "qa_chain = RetrievalQA.from_chain_type(llm, retriever=vectordb.as_retriever())\n",
    "\n",
    "# 可以以该方式进行检索问答\n",
    "question = \"这节课的主要话题是什么\"\n",
    "result = qa_chain({\"query\": question})\n",
    "\n",
    "print(result[\"result\"])"
   ]
  },
  {
   "cell_type": "markdown",
   "metadata": {},
   "source": []
  },
  {
   "cell_type": "code",
   "execution_count": 24,
   "metadata": {},
   "outputs": [],
   "source": [
    "# 中文版\n",
    "from langchain.prompts import PromptTemplate\n",
    "\n",
    "# Build prompt\n",
    "template = \"\"\"使用以下上下文片段来回答最后的问题。如果你不知道答案，只需说不知道，不要试图编造答案。答案最多使用三个句子。尽量简明扼要地回答。在回答的最后一定要说\"感谢您的提问！\"\n",
    "{context}\n",
    "问题：{question}\n",
    "有用的回答：\"\"\"\n",
    "# QA_CHAIN_PROMPT = PromptTemplate.from_template(template)\n",
    "QA_CHAIN_PROMPT = PromptTemplate(\n",
    "    input_variables=[\"context\", \"question\"],\n",
    "    template=template,\n",
    ")\n",
    "\n",
    "# Run chain\n",
    "qa_chain = RetrievalQA.from_chain_type(\n",
    "    llm,\n",
    "    retriever=vectordb.as_retriever(),\n",
    "    return_source_documents=True,\n",
    "    chain_type_kwargs={\"prompt\": QA_CHAIN_PROMPT},\n",
    ")"
   ]
  },
  {
   "cell_type": "code",
   "execution_count": 25,
   "metadata": {},
   "outputs": [
    {
     "name": "stdout",
     "output_type": "stream",
     "text": [
      "这门课程涉及使用Python和Matplotlib进行数据可视化，但主要问题是询问是否会学习Python本身。根据提供的内容，可以推断这门课程会涉及到Python编程，因为提到了使用NumPy生成数据以及使用Matplotlib绘制图表。但是具体是否系统性地教授Python语言的基础知识，则需要更多信息来确定。\n",
      "\n",
      "感谢您的提问！\n"
     ]
    }
   ],
   "source": [
    "question = \"这门课会学习 Python 吗\"\n",
    "result = qa_chain({\"query\": question})\n",
    "print(result[\"result\"])"
   ]
  },
  {
   "cell_type": "code",
   "execution_count": 16,
   "metadata": {},
   "outputs": [
    {
     "name": "stdout",
     "output_type": "stream",
     "text": [
      "page_content='fig, ax = plt.subplots(figsize=(4,3))\n",
      "ax.grid(True)\n",
      "使⽤  set_xscale 可以设置坐标轴的规度（指对数坐标等）\n",
      "fig, axs = plt.subplots(1, 2, figsize=(10, 4))\n",
      "for j in range(2):\n",
      "    axs[j].plot(list('abcd'), [10**i for i in range(4)])\n",
      "    if j==0:\n",
      "        axs[j].set_yscale('log')\n",
      "    else:\n",
      "        pass\n",
      "fig.tight_layout()\n",
      "思考题\n",
      "墨尔本 1981 年⾄ 1990 年的每⽉温度情况\n",
      "数据集来⾃ github 仓库下 data/layout_ex1.csv\n",
      "请利⽤数据，画出如下的图：\n",
      "画出数据的散点图和边际分布\n",
      "⽤  np.random.randn(2, 150) ⽣成⼀组⼆维数据，使⽤两种⾮均匀⼦图的分割⽅法，做出该数据对应的散点图和边际分布图' metadata={'creationdate': '2023-07-11T13:58:18+00:00', 'creator': 'Mozilla/5.0 (Macintosh; Intel Mac OS X 10_15_7) AppleWebKit/537.36 (KHTML, like Gecko) Chrome/114.0.0.0 Safari/537.36', 'moddate': '2023-07-12T10:54:35+08:00', 'page': 3, 'page_label': '4', 'producer': 'Skia/PDF m114', 'source': '../docs/matplotlib/第三回：布局格式定方圆.pdf', 'total_pages': 5}\n"
     ]
    }
   ],
   "source": [
    "print(result[\"source_documents\"][0])"
   ]
  },
  {
   "cell_type": "code",
   "execution_count": 18,
   "metadata": {},
   "outputs": [
    {
     "name": "stderr",
     "output_type": "stream",
     "text": [
      "/opt/anaconda3/envs/llm_env/lib/python3.10/site-packages/tqdm/auto.py:21: TqdmWarning: IProgress not found. Please update jupyter and ipywidgets. See https://ipywidgets.readthedocs.io/en/stable/user_install.html\n",
      "  from .autonotebook import tqdm as notebook_tqdm\n"
     ]
    },
    {
     "name": "stdout",
     "output_type": "stream",
     "text": [
      "根据给定的文档片段，无法确定这门课是否会学习 Python。文档中未直接提到课程内容是否包括 Python。\n"
     ]
    }
   ],
   "source": [
    "qa_chain_mr = RetrievalQA.from_chain_type(\n",
    "    llm, retriever=vectordb.as_retriever(), chain_type=\"map_reduce\"\n",
    ")\n",
    "\n",
    "question = \"这门课会学习 Python 吗\"\n",
    "result = qa_chain_mr({\"query\": question})\n",
    "\n",
    "print(result[\"result\"])"
   ]
  },
  {
   "cell_type": "code",
   "execution_count": 19,
   "metadata": {},
   "outputs": [
    {
     "name": "stdout",
     "output_type": "stream",
     "text": [
      "好的，根据提供的新上下文，我们可以进一步细化和补充之前的答案。以下是结合新信息后的详细回答：\n",
      "\n",
      "### 课程内容概览\n",
      "\n",
      "1. **数据可视化基础**\n",
      "   - 使用`matplotlib`绘制基本图表（如线性、二次和三次函数）。\n",
      "   \n",
      "2. **通用绘图模板**\n",
      "   - 准备数据\n",
      "   - 设置绘图样式\n",
      "   - 定义布局\n",
      "   - 绘制图像\n",
      "   - 添加标签、文字和图例\n",
      "\n",
      "### Python 和 matplotlib 的学习\n",
      "\n",
      "课程会涉及Python编程，特别是使用`matplotlib`进行数据可视化。具体步骤如下：\n",
      "\n",
      "1. **准备数据**\n",
      "   ```python\n",
      "   import numpy as np\n",
      "   x = np.linspace(0, 2, 100)\n",
      "   y_linear = x\n",
      "   y_quadratic = x**2\n",
      "   y_cubic = x**3\n",
      "   ```\n",
      "\n",
      "2. **设置绘图样式（可选）**\n",
      "   ```python\n",
      "   import matplotlib.pyplot as plt\n",
      "   mpl.rc('lines', linewidth=4, linestyle='-.')\n",
      "   ```\n",
      "\n",
      "3. **定义布局**\n",
      "   - 使用`Figure`容器创建图表背景。\n",
      "   - 使用`Axes`容器绘制具体图像。\n",
      "\n",
      "4. **绘制图像**\n",
      "   ```python\n",
      "   fig = plt.figure()\n",
      "   ax1 = fig.add_subplot(211)  # 添加一个子图到Figure中\n",
      "   for ax in fig.axes:\n",
      "       ax.grid(True)\n",
      "   \n",
      "   ax1.plot(x, y_linear, label='Linear')\n",
      "   ax1.plot(x, y_quadratic, label='Quadratic')\n",
      "   ax1.plot(x, y_cubic, label='Cubic')\n",
      "   ```\n",
      "\n",
      "5. **添加标签、文字和图例**\n",
      "   ```python\n",
      "   ax1.set_xlabel('X-axis')\n",
      "   ax1.set_ylabel('Y-axis')\n",
      "   ax1.set_title('Plot of Linear, Quadratic and Cubic Functions')\n",
      "   ax1.legend()\n",
      "   ```\n",
      "\n",
      "### 详细解释\n",
      "\n",
      "#### Figure 容器\n",
      "- `matplotlib.figure.Figure` 是最顶层的容器对象，它包含了图表中的所有元素。\n",
      "- 背景是在 `Figure.patch` 的一个矩形 `Rectangle` 中定义的。\n",
      "- 使用 `Figure.add_subplot()` 或 `Figure.add_axes()` 添加子图或自定义轴。\n",
      "\n",
      "#### Axes 容器\n",
      "- `Axes` 是一种容器，包含了许多基本图形对象（primitives），如 `Line2D`, `Text` 等。\n",
      "- `Axes` 还有自己的属性，例如 `xscale` 用于控制 X 轴的刻度类型（线性或对数）。\n",
      "\n",
      "#### 示例代码\n",
      "```python\n",
      "import matplotlib.pyplot as plt\n",
      "import numpy as np\n",
      "\n",
      "# 准备数据\n",
      "x = np.linspace(0, 2, 100)\n",
      "y_linear = x\n",
      "y_quadratic = x**2\n",
      "y_cubic = x**3\n",
      "\n",
      "# 创建 Figure 容器\n",
      "fig = plt.figure()\n",
      "\n",
      "# 添加子图到 Figure 中\n",
      "ax1 = fig.add_subplot(211)  # 作一个 2*1 的图，选择第 1 个子图\n",
      "for ax in fig.axes:\n",
      "    ax.grid(True)\n",
      "\n",
      "# 绘制图像并添加标签、文字和图例\n",
      "ax1.plot(x, y_linear, label='Linear')\n",
      "ax1.plot(x, y_quadratic, label='Quadratic')\n",
      "ax1.plot(x, y_cubic, label='Cubic')\n",
      "\n",
      "ax1.set_xlabel('X-axis')\n",
      "ax1.set_ylabel('Y-axis')\n",
      "ax1.set_title('Plot of Linear, Quadratic and Cubic Functions')\n",
      "ax1.legend()\n",
      "\n",
      "# 显示图表\n",
      "plt.show()\n",
      "```\n",
      "\n",
      "### Figure 容器的常见属性\n",
      "\n",
      "- `Figure.patch` 属性：Figure 的背景矩形。\n",
      "- `Figure.axes` 属性：一个 Axes 实例的列表（包括 Subplot）。\n",
      "- `Figure.images` 属性：一个 FigureImages patch 列表。\n",
      "- `Figure.lines` 属性：一个 Line2D 实例的列表（很少使用）。\n",
      "- `Figure.legends` 属性：一个 Figure Legend 实例列表（不同于 Axes.legends）。\n",
      "- `Figure.texts` 属性：一个 Figure Text 实例列表。\n",
      "\n",
      "通过上述模板和示例代码，可以更好地理解和应用 `matplotlib` 的绘图功能。希望这些信息对你有所帮助！如果有更多问题或需要进一步的帮助，请随时告知。\n"
     ]
    }
   ],
   "source": [
    "qa_chain_mr = RetrievalQA.from_chain_type(\n",
    "    llm, retriever=vectordb.as_retriever(), chain_type=\"refine\"\n",
    ")\n",
    "question = \"这门课会学习 Python 吗\"\n",
    "result = qa_chain_mr({\"query\": question})\n",
    "print(result[\"result\"])"
   ]
  },
  {
   "cell_type": "code",
   "execution_count": 21,
   "metadata": {},
   "outputs": [
    {
     "name": "stdout",
     "output_type": "stream",
     "text": [
      "这门课程主要介绍使用 Python 的 matplotlib 库进行数据可视化，但并没有直接提到是否教授 Python 语言的基础知识。因此，根据提供的上下文信息，我们无法确定这门课是否会学习 Python。不过通常情况下，学习使用 matplotlib 进行数据可视化的课程都会涵盖一定的 Python 基础知识。如果你对 Python 编程感兴趣或不熟悉，可能需要在开始之前先自学一些基础知识。\n"
     ]
    }
   ],
   "source": [
    "qa_chain = RetrievalQA.from_chain_type(llm, retriever=vectordb.as_retriever())\n",
    "\n",
    "question = \"这门课会学习 Python 吗？\"\n",
    "result = qa_chain({\"query\": question})\n",
    "print(result[\"result\"])"
   ]
  },
  {
   "cell_type": "code",
   "execution_count": 23,
   "metadata": {},
   "outputs": [
    {
     "data": {
      "text/plain": [
       "'您提到的前提不太清晰，没有明确指出是哪个前提。如果您是指上述代码或内容中的某个特定部分，请提供更多的上下文信息，这样我才能准确回答您的问题。如果是在询问关于数据可视化中使用极坐标系、非均匀子图分割或者通用绘图模板等具体技术的必要性，那么这些技术的应用通常是为了更好地展示和理解数据。\\n\\n例如：\\n- 使用极坐标系可以帮助更直观地表示周期性或方向性的数据。\\n- 非均匀子图分割可以灵活地调整图表布局以适应不同的数据展示需求。\\n- 通用绘图模板提供了一种结构化的方式来组织绘图过程，有助于初学者理解和扩展复杂的图表绘制。\\n\\n请具体说明您所指的前提是什么，以便我能给出更准确的回答。'"
      ]
     },
     "execution_count": 23,
     "metadata": {},
     "output_type": "execute_result"
    }
   ],
   "source": [
    "question = \"为什么需要这一前提？\"\n",
    "result = qa_chain({\"query\": question})\n",
    "result[\"result\"]"
   ]
  },
  {
   "cell_type": "code",
   "execution_count": null,
   "metadata": {},
   "outputs": [],
   "source": []
  },
  {
   "cell_type": "code",
   "execution_count": null,
   "metadata": {},
   "outputs": [],
   "source": []
  },
  {
   "cell_type": "code",
   "execution_count": null,
   "metadata": {},
   "outputs": [],
   "source": []
  },
  {
   "cell_type": "code",
   "execution_count": null,
   "metadata": {},
   "outputs": [],
   "source": []
  }
 ],
 "metadata": {
  "kernelspec": {
   "display_name": "llm_env",
   "language": "python",
   "name": "python3"
  },
  "language_info": {
   "codemirror_mode": {
    "name": "ipython",
    "version": 3
   },
   "file_extension": ".py",
   "mimetype": "text/x-python",
   "name": "python",
   "nbconvert_exporter": "python",
   "pygments_lexer": "ipython3",
   "version": "3.10.16"
  }
 },
 "nbformat": 4,
 "nbformat_minor": 2
}
