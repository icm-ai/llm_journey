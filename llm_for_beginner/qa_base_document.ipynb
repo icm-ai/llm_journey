{
 "cells": [
  {
   "cell_type": "code",
   "execution_count": null,
   "metadata": {},
   "outputs": [
    {
     "data": {
      "text/html": [
       "<div>\n",
       "<style scoped>\n",
       "    .dataframe tbody tr th:only-of-type {\n",
       "        vertical-align: middle;\n",
       "    }\n",
       "\n",
       "    .dataframe tbody tr th {\n",
       "        vertical-align: top;\n",
       "    }\n",
       "\n",
       "    .dataframe thead th {\n",
       "        text-align: right;\n",
       "    }\n",
       "</style>\n",
       "<table border=\"1\" class=\"dataframe\">\n",
       "  <thead>\n",
       "    <tr style=\"text-align: right;\">\n",
       "      <th></th>\n",
       "      <th>name</th>\n",
       "      <th>description</th>\n",
       "    </tr>\n",
       "  </thead>\n",
       "  <tbody>\n",
       "    <tr>\n",
       "      <th>0</th>\n",
       "      <td>Women's Campside Oxfords</td>\n",
       "      <td>This ultracomfortable lace-to-toe Oxford boast...</td>\n",
       "    </tr>\n",
       "    <tr>\n",
       "      <th>1</th>\n",
       "      <td>Recycled Waterhog Dog Mat, Chevron Weave</td>\n",
       "      <td>Protect your floors from spills and splashing ...</td>\n",
       "    </tr>\n",
       "    <tr>\n",
       "      <th>2</th>\n",
       "      <td>Infant and Toddler Girls' Coastal Chill Swimsu...</td>\n",
       "      <td>She'll love the bright colors, ruffles and exc...</td>\n",
       "    </tr>\n",
       "    <tr>\n",
       "      <th>3</th>\n",
       "      <td>Refresh Swimwear, V-Neck Tankini Contrasts</td>\n",
       "      <td>Whether you're going for a swim or heading out...</td>\n",
       "    </tr>\n",
       "    <tr>\n",
       "      <th>4</th>\n",
       "      <td>EcoFlex 3L Storm Pants</td>\n",
       "      <td>Our new TEK O2 technology makes our four-seaso...</td>\n",
       "    </tr>\n",
       "  </tbody>\n",
       "</table>\n",
       "</div>"
      ],
      "text/plain": [
       "                                                name  \\\n",
       "0                           Women's Campside Oxfords   \n",
       "1           Recycled Waterhog Dog Mat, Chevron Weave   \n",
       "2  Infant and Toddler Girls' Coastal Chill Swimsu...   \n",
       "3         Refresh Swimwear, V-Neck Tankini Contrasts   \n",
       "4                             EcoFlex 3L Storm Pants   \n",
       "\n",
       "                                         description  \n",
       "0  This ultracomfortable lace-to-toe Oxford boast...  \n",
       "1  Protect your floors from spills and splashing ...  \n",
       "2  She'll love the bright colors, ruffles and exc...  \n",
       "3  Whether you're going for a swim or heading out...  \n",
       "4  Our new TEK O2 technology makes our four-seaso...  "
      ]
     },
     "execution_count": 23,
     "metadata": {},
     "output_type": "execute_result"
    }
   ],
   "source": [
    "from langchain.chains import RetrievalQA  # 检索QA链，在文档上进行检索\n",
    "# from langchain.chat_models import ChatOpenAI  # openai模型\n",
    "# from langchain_community.chat_models import ChatOllama\n",
    "from langchain_ollama import ChatOllama\n",
    "from langchain_ollama import OllamaEmbeddings  # ollama嵌入\n",
    "from langchain.document_loaders import CSVLoader  # 文档加载器，采用csv格式存储\n",
    "# 导入向量存储索引创建器\n",
    "from langchain.indexes import VectorstoreIndexCreator\n",
    "from langchain.vectorstores import DocArrayInMemorySearch  # 向量存储\n",
    "\n",
    "from IPython.display import display, Markdown  # 在jupyter显示信息的工具\n",
    "import pandas as pd\n",
    "\n",
    "file = \"../data/OutdoorClothingCatalog_1000.csv\"\n",
    "\n",
    "# 使用langchain文档加载器对数据进行导入\n",
    "loader = CSVLoader(file_path=file)\n",
    "\n",
    "# 使用pandas导入数据，用以查看\n",
    "data = pd.read_csv(file, usecols=[1, 2])\n",
    "data.head()"
   ]
  },
  {
   "cell_type": "code",
   "execution_count": 19,
   "metadata": {},
   "outputs": [],
   "source": [
    "llm = ChatOllama(model=\"qwen2.5\", temperature=0.0)  # 使用ollama模型"
   ]
  },
  {
   "cell_type": "code",
   "execution_count": 25,
   "metadata": {},
   "outputs": [
    {
     "name": "stderr",
     "output_type": "stream",
     "text": [
      "/opt/anaconda3/envs/llm_env/lib/python3.10/site-packages/pydantic/_migration.py:283: UserWarning: `pydantic.error_wrappers:ValidationError` has been moved to `pydantic:ValidationError`.\n",
      "  warnings.warn(f'`{import_path}` has been moved to `{new_location}`.')\n"
     ]
    }
   ],
   "source": [
    "# 创建 Ollama 嵌入模型实例\n",
    "embeddings = OllamaEmbeddings(model=\"qwen2.5\")  # 或其他你在 Ollama 中安装的模型名称\n",
    "\n",
    "try:\n",
    "    # Create the document loader\n",
    "    file = \"../data/OutdoorClothingCatalog_1000.csv\"\n",
    "    loader = CSVLoader(file_path=file)\n",
    "\n",
    "    # Create vector store index\n",
    "    index = VectorstoreIndexCreator(\n",
    "        vectorstore_cls=DocArrayInMemorySearch,\n",
    "        embedding=embeddings,  # 添加 embedding 参数\n",
    "    ).from_loaders([loader])\n",
    "\n",
    "except Exception as e:\n",
    "    print(f\"Error creating index: {str(e)}\")"
   ]
  },
  {
   "cell_type": "code",
   "execution_count": 36,
   "metadata": {},
   "outputs": [],
   "source": [
    "# query = \"请用markdown表格的方式列出所有具有防晒功能的衬衫，对每件衬衫描述进行总结\"\n"
   ]
  },
  {
   "cell_type": "code",
   "execution_count": null,
   "metadata": {},
   "outputs": [
    {
     "data": {
      "text/plain": [
       "Document(metadata={'source': '../data/OutdoorClothingCatalog_1000.csv', 'row': 0}, page_content=\": 0\\nname: Women's Campside Oxfords\\ndescription: This ultracomfortable lace-to-toe Oxford boasts a super-soft canvas, thick cushioning, and quality construction for a broken-in feel from the first time you put them on. \\n\\nSize & Fit: Order regular shoe size. For half sizes not offered, order up to next whole size. \\n\\nSpecs: Approx. weight: 1 lb.1 oz. per pair. \\n\\nConstruction: Soft canvas material for a broken-in feel and look. Comfortable EVA innersole with Cleansport NXT® antimicrobial odor control. Vintage hunt, fish and camping motif on innersole. Moderate arch contour of innersole. EVA foam midsole for cushioning and support. Chain-tread-inspired molded rubber outsole with modified chain-tread pattern. Imported. \\n\\nQuestions? Please contact us for any inquiries.\")"
      ]
     },
     "execution_count": 38,
     "metadata": {},
     "output_type": "execute_result"
    }
   ],
   "source": [
    "# 创建一个文档加载器，通过csv格式加载\n",
    "file = \"../data/OutdoorClothingCatalog_1000.csv\"\n",
    "loader = CSVLoader(file_path=file)\n",
    "docs_ = loader.load()\n",
    "\n",
    "# 查看单个文档，每个文档对应于CSV中的一行数据\n",
    "docs_[0]"
   ]
  },
  {
   "cell_type": "code",
   "execution_count": 41,
   "metadata": {},
   "outputs": [],
   "source": [
    "embed = embeddings.embed_query(\"你好呀，我的名字叫小可爱\")"
   ]
  },
  {
   "cell_type": "code",
   "execution_count": 45,
   "metadata": {},
   "outputs": [
    {
     "name": "stdout",
     "output_type": "stream",
     "text": [
      "\n",
      "\u001b[32m向量表征的长度: \u001b[0m \n",
      " 3584\n",
      "\n",
      "\u001b[32m向量表征前5个元素: \u001b[0m \n",
      " [-0.003120341, 0.0022507957, -0.0013351035, 0.007695697, 0.0015686533]\n"
     ]
    }
   ],
   "source": [
    "# 查看得到向量表征的长度\n",
    "print(\"\\n\\033[32m向量表征的长度: \\033[0m \\n\", len(embed))\n",
    "\n",
    "# 每个元素都是不同的数字值，组合起来就是文本的向量表征\n",
    "print(\"\\n\\033[32m向量表征前5个元素: \\033[0m \\n\", embed[:5])"
   ]
  },
  {
   "cell_type": "code",
   "execution_count": null,
   "metadata": {},
   "outputs": [
    {
     "name": "stdout",
     "output_type": "stream",
     "text": [
      "\n",
      "\u001b[32m返回文档的个数: \u001b[0m \n",
      " 4\n",
      "\n",
      "\u001b[32m第一个文档: \u001b[0m \n",
      " page_content=': 669\n",
      "name: Serene Sky 45 Pack\n",
      "description: This ultralight pack is designed for the backpacker who counts every ounce. It comes in under 2 lb. yet has all of the comfort and features you'd expect in a multiday hiking pack. Made for weekend backpack trips or even ultralight thru-hikes, the Osprey Levity is for the hiker who wants as light a load as possible. In fact, you won't see pictures of this pack on Instagram because its typical user won't carry the extra weight of a phone. Special lightweight yet tough fabric allows it to weigh under two pounds while keeping great Osprey technology like the Airspeed backpanel and Exoform harness for comfort.\n",
      "\n",
      "Specs:\n",
      "Small \n",
      "- Capacity: 42 L. \n",
      "- Torso Fit: Fits torsos from 16\" to 19\". \n",
      "- Weight: 1.786 lb.\n",
      "- Dimensions: 24.8\"H X 15.75\"W X 11.81\"D.\n",
      "\n",
      "Medium \n",
      "- Capacity: 45 L. \n",
      "- Torso Fit: Fits torsos from 18\" to 21\". \n",
      "- Weight: 1.852 lb. \n",
      "- Dimensions: 26.77\"H X 15.' metadata={'source': '../data/OutdoorClothingCatalog_1000.csv', 'row': 669}\n"
     ]
    }
   ],
   "source": [
    "# 将刚才创建文本向量表征(embeddings)存储在向量存储(vector store)中\n",
    "# 使用DocArrayInMemorySearch类的from_documents方法来实现\n",
    "# 该方法接受文档列表以及向量表征模型作为输入\n",
    "db = DocArrayInMemorySearch.from_documents(docs_, embeddings)\n",
    "\n",
    "query = \"请推荐一件具有防晒功能的衬衫\"\n",
    "# 使用上面的向量存储来查找与传入查询类似的文本，得到一个相似文档列表\n",
    "docs = db.similarity_search(query)\n",
    "print(\"\\n\\033[32m返回文档的个数: \\033[0m \\n\", len(docs))\n",
    "print(\"\\n\\033[32m第一个文档: \\033[0m \\n\", docs[0])"
   ]
  },
  {
   "cell_type": "code",
   "execution_count": 47,
   "metadata": {},
   "outputs": [
    {
     "name": "stderr",
     "output_type": "stream",
     "text": [
      "/var/folders/hm/wyn_k9d108zfv2y674p1hv_r0000gn/T/ipykernel_85400/4142309607.py:7: LangChainDeprecationWarning: The method `BaseChatModel.call_as_llm` was deprecated in langchain-core 0.1.7 and will be removed in 1.0. Use :meth:`~invoke` instead.\n",
      "  response = llm.call_as_llm(\n"
     ]
    },
    {
     "data": {
      "text/markdown": [
       "根据提供的信息，实际上没有提到任何具有防晒功能的衬衫。不过，我可以帮助你创建一个示例表格来展示如何格式化这样的数据。假设我们有一些虚构的防晒衬衫产品信息：\n",
       "\n",
       "```markdown\n",
       "| 产品名称       | 描述                                                                                   |\n",
       "|--------------|------------------------------------------------------------------------------------|\n",
       "| 防晒速干衬衫 A | 采用高科技防晒面料，UPF值高达50+，有效阻挡紫外线，适合户外活动和夏季穿着。轻薄透气，快速吸汗干燥。 |\n",
       "| 防晒长袖衬衫 B | 特别设计的长袖款式，提供全面的皮肤保护。采用防紫外线技术，保持舒适贴身感。适用于各种户外运动。   |\n",
       "```\n",
       "\n",
       "如果你有具体的防晒衬衫产品信息，请提供给我，我可以帮助你填充表格内容。"
      ],
      "text/plain": [
       "<IPython.core.display.Markdown object>"
      ]
     },
     "metadata": {},
     "output_type": "display_data"
    }
   ],
   "source": [
    "# 合并获得的相似文档内容\n",
    "qdocs = \"\".join([docs[i].page_content for i in range(len(docs))])\n",
    "\n",
    "\n",
    "# 将合并的相似文档内容后加上问题（question）输入到 `llm.call_as_llm`中\n",
    "# 这里问题是：以Markdown表格的方式列出所有具有防晒功能的衬衫并总结\n",
    "response = llm.call_as_llm(\n",
    "    f\"{qdocs}问题：请用markdown表格的方式列出所有具有防晒功能的衬衫，对每件衬衫描述进行总结\"\n",
    ")\n",
    "\n",
    "display(Markdown(response))"
   ]
  },
  {
   "cell_type": "code",
   "execution_count": null,
   "metadata": {},
   "outputs": [],
   "source": [
    "# 基于向量储存，创建检索器\n",
    "retriever = db.as_retriever()\n",
    "\n",
    "qa_stuff = RetrievalQA.from_chain_type(\n",
    "    llm=llm, chain_type=\"stuff\", retriever=retriever, verbose=True\n",
    ")\n",
    "\n",
    "# 创建一个查询并在此查询上运行链\n",
    "query = \"请用markdown表格的方式列出所有具有防晒功能的衬衫，对每件衬衫描述进行总结\"\n",
    "\n",
    "response = qa_stuff.run(query)\n",
    "\n",
    "display(Markdown(response))"
   ]
  },
  {
   "cell_type": "code",
   "execution_count": null,
   "metadata": {},
   "outputs": [],
   "source": []
  },
  {
   "cell_type": "code",
   "execution_count": null,
   "metadata": {},
   "outputs": [],
   "source": []
  },
  {
   "cell_type": "code",
   "execution_count": null,
   "metadata": {},
   "outputs": [],
   "source": []
  },
  {
   "cell_type": "code",
   "execution_count": null,
   "metadata": {},
   "outputs": [],
   "source": []
  },
  {
   "cell_type": "code",
   "execution_count": null,
   "metadata": {},
   "outputs": [],
   "source": []
  },
  {
   "cell_type": "code",
   "execution_count": null,
   "metadata": {},
   "outputs": [],
   "source": []
  },
  {
   "cell_type": "code",
   "execution_count": null,
   "metadata": {},
   "outputs": [],
   "source": []
  },
  {
   "cell_type": "code",
   "execution_count": null,
   "metadata": {},
   "outputs": [],
   "source": []
  },
  {
   "cell_type": "code",
   "execution_count": null,
   "metadata": {},
   "outputs": [],
   "source": []
  }
 ],
 "metadata": {
  "kernelspec": {
   "display_name": "llm_env",
   "language": "python",
   "name": "python3"
  },
  "language_info": {
   "codemirror_mode": {
    "name": "ipython",
    "version": 3
   },
   "file_extension": ".py",
   "mimetype": "text/x-python",
   "name": "python",
   "nbconvert_exporter": "python",
   "pygments_lexer": "ipython3",
   "version": "3.10.16"
  }
 },
 "nbformat": 4,
 "nbformat_minor": 2
}
